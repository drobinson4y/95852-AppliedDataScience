{
 "cells": [
  {
   "cell_type": "markdown",
   "metadata": {},
   "source": [
    "# An Introduction to SageMaker Random Cut Forests\n",
    "\n",
    "***Unsupervised anomaly detection on timeseries data a Random Cut Forest algorithm.***\n",
    "\n",
    "---\n",
    "\n",
    "1. [Introduction](#Introduction)\n",
    "1. [Setup](#Setup)\n",
    "1. [Training](#Training)\n",
    "1. [Inference](#Inference)\n",
    "1. [Epilogue](#Epilogue)"
   ]
  },
  {
   "cell_type": "markdown",
   "metadata": {},
   "source": [
    "# Introduction\n",
    "***\n",
    "\n",
    "This notebook is based on the AWS RCF sample notebook at https://github.com/awslabs/amazon-sagemaker-examples/tree/master/introduction_to_amazon_algorithms/random_cut_forest\n",
    "\n",
    "Amazon SageMaker Random Cut Forest (RCF) is an algorithm designed to detect anomalous data points within a dataset. Examples of when anomalies are important to detect include when website activity uncharactersitically spikes, when temperature data diverges from a periodic behavior, or when changes to public transit ridership reflect the occurrence of a special event.\n",
    "\n",
    "In this notebook, we will use the SageMaker RCF algorithm to train an RCF model on the Numenta Anomaly Benchmark (NAB) NYC Taxi dataset which records the amount New York City taxi ridership over the course of six months. We will then use this model to predict anomalous events by emitting an \"anomaly score\" for each data point. The main goals of this notebook are,\n",
    "\n",
    "* to learn how to obtain, transform, and store data for use in Amazon SageMaker;\n",
    "* to create an AWS SageMaker training job on a data set to produce an RCF model,\n",
    "* use the RCF model to perform inference with an Amazon SageMaker endpoint.\n",
    "\n",
    "The following are ***not*** goals of this notebook:\n",
    "\n",
    "* deeply understand the RCF model,\n",
    "* understand how the Amazon SageMaker RCF algorithm works.\n",
    "\n",
    "If you would like to know more please check out the [SageMaker RCF Documentation](https://docs.aws.amazon.com/sagemaker/latest/dg/randomcutforest.html)."
   ]
  },
  {
   "cell_type": "markdown",
   "metadata": {},
   "source": [
    "# Setup\n",
    "\n",
    "***\n",
    "\n",
    "*This notebook was created and tested on an ml.m4.xlarge notebook instance.*\n",
    "\n",
    "Our first step is to setup our AWS credentials so that AWS SageMaker can store and access training data and model artifacts. We also need some data to inspect and to train upon."
   ]
  },
  {
   "cell_type": "markdown",
   "metadata": {},
   "source": [
    "## Select Amazon S3 Bucket\n",
    "\n",
    "We first need to specify the locations where we will store our training data and trained model artifacts. ***This is the only cell of this notebook that you will need to edit.*** In particular, we need the following data:\n",
    "\n",
    "* `bucket` - An S3 bucket accessible by this account.\n",
    "* `prefix` - The location in the bucket where this notebook's input and output data will be stored. (The default value is sufficient.)"
   ]
  },
  {
   "cell_type": "code",
   "execution_count": 1,
   "metadata": {
    "isConfigCell": true
   },
   "outputs": [
    {
     "name": "stdout",
     "output_type": "stream",
     "text": [
      "Training input/output will be stored in: s3://sagemaker-davidrob/group-project/bitcoin\n"
     ]
    }
   ],
   "source": [
    "import boto3\n",
    "import botocore\n",
    "import sagemaker\n",
    "import sys\n",
    "import pandas as pd\n",
    "import io\n",
    "import numpy as np\n",
    "from datetime import datetime\n",
    "\n",
    "bucket = 'sagemaker-davidrob'   # <--- specify a bucket you have access to\n",
    "prefix = 'group-project/bitcoin'\n",
    "execution_role = sagemaker.get_execution_role()\n",
    "\n",
    "\n",
    "# check if the bucket exists\n",
    "try:\n",
    "    boto3.Session().client('s3').head_bucket(Bucket=bucket)\n",
    "except botocore.exceptions.ParamValidationError as e:\n",
    "    print('Hey! You either forgot to specify your S3 bucket'\n",
    "          ' or you gave your bucket an invalid name!')\n",
    "except botocore.exceptions.ClientError as e:\n",
    "    if e.response['Error']['Code'] == '403':\n",
    "        print(\"Hey! You don't have permission to access the bucket, {}.\".format(bucket))\n",
    "    elif e.response['Error']['Code'] == '404':\n",
    "        print(\"Hey! Your bucket, {}, doesn't exist!\".format(bucket))\n",
    "    else:\n",
    "        raise\n",
    "else:\n",
    "    print('Training input/output will be stored in: s3://{}/{}'.format(bucket, prefix))\n",
    "    \n",
    "# create the s3 client\n",
    "s3 = boto3.client('s3')"
   ]
  },
  {
   "cell_type": "markdown",
   "metadata": {},
   "source": [
    "## Obtain and Inspect Example Data\n",
    "\n",
    "\n",
    "Our data is minute-level bitcoin pricing data. The initial subset covers one month. Other sets contain one year, four years, and six years' worth of data. The 6-year set starts in 2011 and goes through July 2018. In the first step, below, we pick which data set to use throughout the remainder of this notebook."
   ]
  },
  {
   "cell_type": "code",
   "execution_count": 3,
   "metadata": {},
   "outputs": [],
   "source": [
    "# Step 1:\n",
    "# We have several datasets. Define them all upfront so we can switch between them easily. \n",
    "# To switch between datasets, change the uncommented line in the folllowing lines.\n",
    "# For the most part, this step is the only place we need to change to switch datasets, \n",
    "# except for some of the charts where we select small date ranges.\n",
    "\n",
    "month_initial = s3.get_object(Bucket=bucket, Key=f'{prefix}/bitcoinmonth.csv')\n",
    "#year_initial = s3.get_object(Bucket=bucket, Key=f'{prefix}/bitflyerJPY_1-min_data_2017-07-04_to_2018-06-27.csv')\n",
    "#fouryears_initial = s3.get_object(Bucket=bucket, Key=f'{prefix}/bitflyerJPY_1-min_data_2017-07-04_to_2018-06-27.csv')\n",
    "#sixyears_initial = s3.get_object(Bucket=bucket, Key=f'{prefix}/bitflyerJPY_1-min_data_2017-07-04_to_2018-06-27.csv')\n",
    "\n",
    "# Step 2: copy data object to a name that can be consistent through the rest of the script\n",
    "raw_data = month_initial\n",
    "\n",
    "# Step 3: convert the data to a workable format\n",
    "df_all_columns = pd.read_csv(io.BytesIO(raw_data['Body'].read()), encoding=\"ISO-8859-1\", low_memory=False)"
   ]
  },
  {
   "cell_type": "code",
   "execution_count": 4,
   "metadata": {},
   "outputs": [
    {
     "data": {
      "text/html": [
       "<div>\n",
       "<style scoped>\n",
       "    .dataframe tbody tr th:only-of-type {\n",
       "        vertical-align: middle;\n",
       "    }\n",
       "\n",
       "    .dataframe tbody tr th {\n",
       "        vertical-align: top;\n",
       "    }\n",
       "\n",
       "    .dataframe thead th {\n",
       "        text-align: right;\n",
       "    }\n",
       "</style>\n",
       "<table border=\"1\" class=\"dataframe\">\n",
       "  <thead>\n",
       "    <tr style=\"text-align: right;\">\n",
       "      <th></th>\n",
       "      <th>Timestamp</th>\n",
       "      <th>Open</th>\n",
       "      <th>High</th>\n",
       "      <th>Low</th>\n",
       "      <th>Close</th>\n",
       "      <th>Volume_(BTC)</th>\n",
       "      <th>Volume_(Currency)</th>\n",
       "      <th>Weighted_Price</th>\n",
       "      <th>datetime</th>\n",
       "    </tr>\n",
       "  </thead>\n",
       "  <tbody>\n",
       "    <tr>\n",
       "      <th>0</th>\n",
       "      <td>1527638460</td>\n",
       "      <td>813324</td>\n",
       "      <td>813615</td>\n",
       "      <td>813076</td>\n",
       "      <td>813076</td>\n",
       "      <td>9.961829</td>\n",
       "      <td>8.100150e+06</td>\n",
       "      <td>813118.72628</td>\n",
       "      <td>2018-05-30 00:01:00</td>\n",
       "    </tr>\n",
       "    <tr>\n",
       "      <th>1</th>\n",
       "      <td>1527638520</td>\n",
       "      <td>813334</td>\n",
       "      <td>813334</td>\n",
       "      <td>813076</td>\n",
       "      <td>813076</td>\n",
       "      <td>0.421000</td>\n",
       "      <td>3.423099e+05</td>\n",
       "      <td>813087.64371</td>\n",
       "      <td>2018-05-30 00:02:00</td>\n",
       "    </tr>\n",
       "    <tr>\n",
       "      <th>2</th>\n",
       "      <td>1527638580</td>\n",
       "      <td>813135</td>\n",
       "      <td>813600</td>\n",
       "      <td>813128</td>\n",
       "      <td>813600</td>\n",
       "      <td>1.846366</td>\n",
       "      <td>1.502083e+06</td>\n",
       "      <td>813534.76321</td>\n",
       "      <td>2018-05-30 00:03:00</td>\n",
       "    </tr>\n",
       "    <tr>\n",
       "      <th>3</th>\n",
       "      <td>1527638640</td>\n",
       "      <td>813620</td>\n",
       "      <td>814476</td>\n",
       "      <td>813600</td>\n",
       "      <td>814476</td>\n",
       "      <td>2.059000</td>\n",
       "      <td>1.676414e+06</td>\n",
       "      <td>814188.19552</td>\n",
       "      <td>2018-05-30 00:04:00</td>\n",
       "    </tr>\n",
       "    <tr>\n",
       "      <th>4</th>\n",
       "      <td>1527638700</td>\n",
       "      <td>813625</td>\n",
       "      <td>814201</td>\n",
       "      <td>813300</td>\n",
       "      <td>813445</td>\n",
       "      <td>3.543264</td>\n",
       "      <td>2.882671e+06</td>\n",
       "      <td>813563.61022</td>\n",
       "      <td>2018-05-30 00:05:00</td>\n",
       "    </tr>\n",
       "  </tbody>\n",
       "</table>\n",
       "</div>"
      ],
      "text/plain": [
       "    Timestamp    Open    High     Low   Close  Volume_(BTC)  \\\n",
       "0  1527638460  813324  813615  813076  813076      9.961829   \n",
       "1  1527638520  813334  813334  813076  813076      0.421000   \n",
       "2  1527638580  813135  813600  813128  813600      1.846366   \n",
       "3  1527638640  813620  814476  813600  814476      2.059000   \n",
       "4  1527638700  813625  814201  813300  813445      3.543264   \n",
       "\n",
       "   Volume_(Currency)  Weighted_Price             datetime  \n",
       "0       8.100150e+06    813118.72628  2018-05-30 00:01:00  \n",
       "1       3.423099e+05    813087.64371  2018-05-30 00:02:00  \n",
       "2       1.502083e+06    813534.76321  2018-05-30 00:03:00  \n",
       "3       1.676414e+06    814188.19552  2018-05-30 00:04:00  \n",
       "4       2.882671e+06    813563.61022  2018-05-30 00:05:00  "
      ]
     },
     "execution_count": 4,
     "metadata": {},
     "output_type": "execute_result"
    }
   ],
   "source": [
    "# Step 4: quick reality check.\n",
    "df_all_columns.head()"
   ]
  },
  {
   "cell_type": "code",
   "execution_count": 7,
   "metadata": {},
   "outputs": [
    {
     "name": "stdout",
     "output_type": "stream",
     "text": [
      "row count: 40320\n"
     ]
    },
    {
     "data": {
      "text/html": [
       "<div>\n",
       "<style scoped>\n",
       "    .dataframe tbody tr th:only-of-type {\n",
       "        vertical-align: middle;\n",
       "    }\n",
       "\n",
       "    .dataframe tbody tr th {\n",
       "        vertical-align: top;\n",
       "    }\n",
       "\n",
       "    .dataframe thead th {\n",
       "        text-align: right;\n",
       "    }\n",
       "</style>\n",
       "<table border=\"1\" class=\"dataframe\">\n",
       "  <thead>\n",
       "    <tr style=\"text-align: right;\">\n",
       "      <th></th>\n",
       "      <th>timestamp</th>\n",
       "      <th>value</th>\n",
       "      <th>price</th>\n",
       "    </tr>\n",
       "  </thead>\n",
       "  <tbody>\n",
       "    <tr>\n",
       "      <th>0</th>\n",
       "      <td>2018-05-30 00:01:00</td>\n",
       "      <td>9.961829</td>\n",
       "      <td>813118.72628</td>\n",
       "    </tr>\n",
       "    <tr>\n",
       "      <th>1</th>\n",
       "      <td>2018-05-30 00:02:00</td>\n",
       "      <td>0.421000</td>\n",
       "      <td>813087.64371</td>\n",
       "    </tr>\n",
       "    <tr>\n",
       "      <th>2</th>\n",
       "      <td>2018-05-30 00:03:00</td>\n",
       "      <td>1.846366</td>\n",
       "      <td>813534.76321</td>\n",
       "    </tr>\n",
       "    <tr>\n",
       "      <th>3</th>\n",
       "      <td>2018-05-30 00:04:00</td>\n",
       "      <td>2.059000</td>\n",
       "      <td>814188.19552</td>\n",
       "    </tr>\n",
       "    <tr>\n",
       "      <th>4</th>\n",
       "      <td>2018-05-30 00:05:00</td>\n",
       "      <td>3.543264</td>\n",
       "      <td>813563.61022</td>\n",
       "    </tr>\n",
       "  </tbody>\n",
       "</table>\n",
       "</div>"
      ],
      "text/plain": [
       "            timestamp     value         price\n",
       "0 2018-05-30 00:01:00  9.961829  813118.72628\n",
       "1 2018-05-30 00:02:00  0.421000  813087.64371\n",
       "2 2018-05-30 00:03:00  1.846366  813534.76321\n",
       "3 2018-05-30 00:04:00  2.059000  814188.19552\n",
       "4 2018-05-30 00:05:00  3.543264  813563.61022"
      ]
     },
     "execution_count": 7,
     "metadata": {},
     "output_type": "execute_result"
    }
   ],
   "source": [
    "# Step 5: convert Unix time to datetime by adding a new field to the dataframe\n",
    "df_all_columns['datetime'] = pd.to_datetime(df_all_columns.Timestamp, unit='s')\n",
    "\n",
    "# step 6: subset to just have the two columns, and rename them.\n",
    "# I think we need to have a column named literally \"value\"\n",
    "df = df_all_columns[['datetime','Volume_(BTC)','Weighted_Price']]\n",
    "df = df.rename(index=str, columns={\"datetime\": 'timestamp', 'Volume_(BTC)':'value', 'Weighted_Price':'price'})\n",
    "\n",
    "# Step 7: another reality check. look at the row count and first few rows of the cleaned up dataframe\n",
    "print(\"row count: \" + str(len(df.index)))\n",
    "df.head()\n",
    "\n",
    "# the one-month dataset should have 40,320 records.\n",
    "# one-year = about 511,000"
   ]
  },
  {
   "cell_type": "markdown",
   "metadata": {},
   "source": [
    "Human beings are visual creatures so let's take a look at a plot of the data."
   ]
  },
  {
   "cell_type": "code",
   "execution_count": 9,
   "metadata": {},
   "outputs": [
    {
     "data": {
      "text/plain": [
       "<matplotlib.axes._subplots.AxesSubplot at 0x7fde683442b0>"
      ]
     },
     "execution_count": 9,
     "metadata": {},
     "output_type": "execute_result"
    },
    {
     "data": {
      "image/png": "[encoded data removed]",
      "text/plain": [
       "<Figure size 600x400 with 1 Axes>"
      ]
     },
     "metadata": {},
     "output_type": "display_data"
    }
   ],
   "source": [
    "# Step 8: a simple graph of the entire dataset\n",
    "%matplotlib inline\n",
    "\n",
    "import matplotlib\n",
    "import matplotlib.pyplot as plt\n",
    "matplotlib.rcParams['figure.dpi'] = 100\n",
    "\n",
    "df.plot(x='timestamp', y='value')"
   ]
  },
  {
   "cell_type": "markdown",
   "metadata": {},
   "source": [
    "Let's zoom in on a random subset."
   ]
  },
  {
   "cell_type": "code",
   "execution_count": 10,
   "metadata": {},
   "outputs": [
    {
     "data": {
      "text/plain": [
       "<matplotlib.axes._subplots.AxesSubplot at 0x7fde67fb5a90>"
      ]
     },
     "execution_count": 10,
     "metadata": {},
     "output_type": "execute_result"
    },
    {
     "data": {
      "image/png": "[encoded data removed]",
      "text/plain": [
       "<Figure size 600x400 with 1 Axes>"
      ]
     },
     "metadata": {},
     "output_type": "display_data"
    }
   ],
   "source": [
    "# step 9: a graph of a smaller date range within the dataset.\n",
    "# the range to zoom in on will depend on the selected dataset (month, year, 4-year, 6-year)\n",
    "subset1 = df[5500:6500]\n",
    "subset1.plot(x='timestamp', y='value')"
   ]
  },
  {
   "cell_type": "markdown",
   "metadata": {},
   "source": [
    "# Training\n",
    "\n",
    "***\n",
    "\n",
    "Next, we configure a SageMaker training job to train the Random Cut Forest (RCF) algorithm on the bitcoin data."
   ]
  },
  {
   "cell_type": "markdown",
   "metadata": {},
   "source": [
    "## Hyperparameters\n",
    "\n",
    "Particular to a SageMaker RCF training job are the following hyperparameters:\n",
    "\n",
    "* **`num_samples_per_tree`** - the number randomly sampled data points sent to each tree. As a general rule, `1/num_samples_per_tree` should approximate the the estimated ratio of anomalies to normal points in the dataset.\n",
    "* **`num_trees`** - the number of trees to create in the forest. Each tree learns a separate model from different samples of data. The full forest model uses the mean predicted anomaly score from each constituent tree.\n",
    "* **`feature_dim`** - the dimension of each data point.\n",
    "\n",
    "In addition to these RCF model hyperparameters, we provide additional parameters defining things like the EC2 instance type on which training will run, the S3 bucket containing the data, and the AWS access role. Note that,\n",
    "\n",
    "* Recommended instance type: `ml.m4`, `ml.c4`, or `ml.c5`\n",
    "* Current limitations:\n",
    "  * The RCF algorithm does not take advantage of GPU hardware."
   ]
  },
  {
   "cell_type": "code",
   "execution_count": 11,
   "metadata": {},
   "outputs": [
    {
     "name": "stderr",
     "output_type": "stream",
     "text": [
      "INFO:sagemaker:Creating training-job with name: randomcutforest-2018-09-29-23-35-30-556\n"
     ]
    },
    {
     "name": "stdout",
     "output_type": "stream",
     "text": [
      "2018-09-29 23:35:30 Starting - Starting the training job...\n",
      "Launching requested ML instances......\n",
      "Preparing the instances for training...\n",
      "2018-09-29 23:37:11 Downloading - Downloading input data\n",
      "2018-09-29 23:37:19 Training - Downloading the training image...\n",
      "2018-09-29 23:37:59 Uploading - Uploading generated training model\n",
      "\u001b[31mDocker entrypoint called with argument(s): train\u001b[0m\n",
      "\u001b[31m[09/29/2018 23:37:55 INFO 140453860910912] Reading default configuration from /opt/amazon/lib/python2.7/site-packages/algorithm/resources/default-conf.json: {u'_ftp_port': 8999, u'num_samples_per_tree': 256, u'_tuning_objective_metric': u'', u'_num_gpus': u'auto', u'_log_level': u'info', u'_kvstore': u'dist_async', u'force_dense': u'true', u'epochs': 1, u'num_trees': 100, u'eval_metrics': [u'accuracy', u'precision_recall_fscore'], u'_num_kv_servers': u'auto', u'mini_batch_size': 1000}\u001b[0m\n",
      "\u001b[31m[09/29/2018 23:37:55 INFO 140453860910912] Reading provided configuration from /opt/ml/input/config/hyperparameters.json: {u'mini_batch_size': u'1000', u'feature_dim': u'1', u'num_samples_per_tree': u'2048', u'num_trees': u'1000'}\u001b[0m\n",
      "\u001b[31m[09/29/2018 23:37:55 INFO 140453860910912] Final configuration: {u'_ftp_port': 8999, u'num_samples_per_tree': u'2048', u'_tuning_objective_metric': u'', u'_num_gpus': u'auto', u'_log_level': u'info', u'_kvstore': u'dist_async', u'force_dense': u'true', u'epochs': 1, u'feature_dim': u'1', u'num_trees': u'1000', u'eval_metrics': [u'accuracy', u'precision_recall_fscore'], u'_num_kv_servers': u'auto', u'mini_batch_size': u'1000'}\u001b[0m\n",
      "\u001b[31m[09/29/2018 23:37:55 WARNING 140453860910912] Loggers have already been setup.\u001b[0m\n",
      "\u001b[31m[09/29/2018 23:37:55 INFO 140453860910912] Launching parameter server for role scheduler\u001b[0m\n",
      "\u001b[31m[09/29/2018 23:37:55 INFO 140453860910912] {'ECS_CONTAINER_METADATA_URI': 'http://169.254.170.2/v3/24ef0b94-a1a1-4d98-8063-8ee423277ee6', 'PROTOCOL_BUFFERS_PYTHON_IMPLEMENTATION_VERSION': '2', 'PATH': '/opt/amazon/bin:/usr/local/nvidia/bin:/usr/local/sbin:/usr/local/bin:/usr/sbin:/usr/bin:/sbin:/bin:/opt/amazon/bin:/opt/amazon/bin', 'SAGEMAKER_HTTP_PORT': '8080', 'HOME': '/root', 'PYTHONUNBUFFERED': 'TRUE', 'CANONICAL_ENVROOT': '/opt/amazon', 'LD_LIBRARY_PATH': '/usr/local/nvidia/lib64:/opt/amazon/lib', 'MXNET_KVSTORE_BIGARRAY_BOUND': '400000000', 'LANG': 'en_US.utf8', 'DMLC_INTERFACE': 'ethwe', 'SHLVL': '1', 'AWS_REGION': 'us-east-1', 'NVIDIA_VISIBLE_DEVICES': 'all', 'TRAINING_JOB_NAME': 'randomcutforest-2018-09-29-23-35-30-556', 'PROTOCOL_BUFFERS_PYTHON_IMPLEMENTATION': 'cpp', 'ENVROOT': '/opt/amazon', 'SAGEMAKER_DATA_PATH': '/opt/ml', 'NVIDIA_DRIVER_CAPABILITIES': 'compute,utility', 'NVIDIA_REQUIRE_CUDA': 'cuda>=9.0', 'OMP_NUM_THREADS': '2', 'HOSTNAME': 'aws', 'AWS_CONTAINER_CREDENTIALS_RELATIVE_URI': '/v2/credentials/571b0fbf-2387-4035-9bec-0bb99e678c16', 'PWD': '/'}\u001b[0m\n",
      "\u001b[31m[09/29/2018 23:37:55 INFO 140453860910912] envs={'ECS_CONTAINER_METADATA_URI': 'http://169.254.170.2/v3/24ef0b94-a1a1-4d98-8063-8ee423277ee6', 'PROTOCOL_BUFFERS_PYTHON_IMPLEMENTATION_VERSION': '2', 'DMLC_NUM_WORKER': '1', 'DMLC_PS_ROOT_PORT': '9000', 'PATH': '/opt/amazon/bin:/usr/local/nvidia/bin:/usr/local/sbin:/usr/local/bin:/usr/sbin:/usr/bin:/sbin:/bin:/opt/amazon/bin:/opt/amazon/bin', 'SAGEMAKER_HTTP_PORT': '8080', 'HOME': '/root', 'PYTHONUNBUFFERED': 'TRUE', 'CANONICAL_ENVROOT': '/opt/amazon', 'LD_LIBRARY_PATH': '/usr/local/nvidia/lib64:/opt/amazon/lib', 'MXNET_KVSTORE_BIGARRAY_BOUND': '400000000', 'LANG': 'en_US.utf8', 'DMLC_INTERFACE': 'ethwe', 'SHLVL': '1', 'DMLC_PS_ROOT_URI': '10.32.0.4', 'AWS_REGION': 'us-east-1', 'NVIDIA_VISIBLE_DEVICES': 'all', 'TRAINING_JOB_NAME': 'randomcutforest-2018-09-29-23-35-30-556', 'PROTOCOL_BUFFERS_PYTHON_IMPLEMENTATION': 'cpp', 'ENVROOT': '/opt/amazon', 'SAGEMAKER_DATA_PATH': '/opt/ml', 'NVIDIA_DRIVER_CAPABILITIES': 'compute,utility', 'NVIDIA_REQUIRE_CUDA': 'cuda>=9.0', 'OMP_NUM_THREADS': '2', 'HOSTNAME': 'aws', 'AWS_CONTAINER_CREDENTIALS_RELATIVE_URI': '/v2/credentials/571b0fbf-2387-4035-9bec-0bb99e678c16', 'DMLC_ROLE': 'scheduler', 'PWD': '/', 'DMLC_NUM_SERVER': '1'}\u001b[0m\n",
      "\u001b[31m[09/29/2018 23:37:55 INFO 140453860910912] Launching parameter server for role server\u001b[0m\n",
      "\u001b[31m[09/29/2018 23:37:55 INFO 140453860910912] {'ECS_CONTAINER_METADATA_URI': 'http://169.254.170.2/v3/24ef0b94-a1a1-4d98-8063-8ee423277ee6', 'PROTOCOL_BUFFERS_PYTHON_IMPLEMENTATION_VERSION': '2', 'PATH': '/opt/amazon/bin:/usr/local/nvidia/bin:/usr/local/sbin:/usr/local/bin:/usr/sbin:/usr/bin:/sbin:/bin:/opt/amazon/bin:/opt/amazon/bin', 'SAGEMAKER_HTTP_PORT': '8080', 'HOME': '/root', 'PYTHONUNBUFFERED': 'TRUE', 'CANONICAL_ENVROOT': '/opt/amazon', 'LD_LIBRARY_PATH': '/usr/local/nvidia/lib64:/opt/amazon/lib', 'MXNET_KVSTORE_BIGARRAY_BOUND': '400000000', 'LANG': 'en_US.utf8', 'DMLC_INTERFACE': 'ethwe', 'SHLVL': '1', 'AWS_REGION': 'us-east-1', 'NVIDIA_VISIBLE_DEVICES': 'all', 'TRAINING_JOB_NAME': 'randomcutforest-2018-09-29-23-35-30-556', 'PROTOCOL_BUFFERS_PYTHON_IMPLEMENTATION': 'cpp', 'ENVROOT': '/opt/amazon', 'SAGEMAKER_DATA_PATH': '/opt/ml', 'NVIDIA_DRIVER_CAPABILITIES': 'compute,utility', 'NVIDIA_REQUIRE_CUDA': 'cuda>=9.0', 'OMP_NUM_THREADS': '2', 'HOSTNAME': 'aws', 'AWS_CONTAINER_CREDENTIALS_RELATIVE_URI': '/v2/credentials/571b0fbf-2387-4035-9bec-0bb99e678c16', 'PWD': '/'}\u001b[0m\n",
      "\u001b[31m[09/29/2018 23:37:55 INFO 140453860910912] envs={'ECS_CONTAINER_METADATA_URI': 'http://169.254.170.2/v3/24ef0b94-a1a1-4d98-8063-8ee423277ee6', 'PROTOCOL_BUFFERS_PYTHON_IMPLEMENTATION_VERSION': '2', 'DMLC_NUM_WORKER': '1', 'DMLC_PS_ROOT_PORT': '9000', 'PATH': '/opt/amazon/bin:/usr/local/nvidia/bin:/usr/local/sbin:/usr/local/bin:/usr/sbin:/usr/bin:/sbin:/bin:/opt/amazon/bin:/opt/amazon/bin', 'SAGEMAKER_HTTP_PORT': '8080', 'HOME': '/root', 'PYTHONUNBUFFERED': 'TRUE', 'CANONICAL_ENVROOT': '/opt/amazon', 'LD_LIBRARY_PATH': '/usr/local/nvidia/lib64:/opt/amazon/lib', 'MXNET_KVSTORE_BIGARRAY_BOUND': '400000000', 'LANG': 'en_US.utf8', 'DMLC_INTERFACE': 'ethwe', 'SHLVL': '1', 'DMLC_PS_ROOT_URI': '10.32.0.4', 'AWS_REGION': 'us-east-1', 'NVIDIA_VISIBLE_DEVICES': 'all', 'TRAINING_JOB_NAME': 'randomcutforest-2018-09-29-23-35-30-556', 'PROTOCOL_BUFFERS_PYTHON_IMPLEMENTATION': 'cpp', 'ENVROOT': '/opt/amazon', 'SAGEMAKER_DATA_PATH': '/opt/ml', 'NVIDIA_DRIVER_CAPABILITIES': 'compute,utility', 'NVIDIA_REQUIRE_CUDA': 'cuda>=9.0', 'OMP_NUM_THREADS': '2', 'HOSTNAME': 'aws', 'AWS_CONTAINER_CREDENTIALS_RELATIVE_URI': '/v2/credentials/571b0fbf-2387-4035-9bec-0bb99e678c16', 'DMLC_ROLE': 'server', 'PWD': '/', 'DMLC_NUM_SERVER': '1'}\u001b[0m\n",
      "\u001b[31m[09/29/2018 23:37:55 INFO 140453860910912] Environment: {'ECS_CONTAINER_METADATA_URI': 'http://169.254.170.2/v3/24ef0b94-a1a1-4d98-8063-8ee423277ee6', 'PROTOCOL_BUFFERS_PYTHON_IMPLEMENTATION_VERSION': '2', 'DMLC_PS_ROOT_PORT': '9000', 'DMLC_NUM_WORKER': '1', 'SAGEMAKER_HTTP_PORT': '8080', 'PATH': '/opt/amazon/bin:/usr/local/nvidia/bin:/usr/local/sbin:/usr/local/bin:/usr/sbin:/usr/bin:/sbin:/bin:/opt/amazon/bin:/opt/amazon/bin', 'PYTHONUNBUFFERED': 'TRUE', 'CANONICAL_ENVROOT': '/opt/amazon', 'LD_LIBRARY_PATH': '/usr/local/nvidia/lib64:/opt/amazon/lib', 'MXNET_KVSTORE_BIGARRAY_BOUND': '400000000', 'LANG': 'en_US.utf8', 'DMLC_INTERFACE': 'ethwe', 'SHLVL': '1', 'DMLC_PS_ROOT_URI': '10.32.0.4', 'AWS_REGION': 'us-east-1', 'NVIDIA_VISIBLE_DEVICES': 'all', 'TRAINING_JOB_NAME': 'randomcutforest-2018-09-29-23-35-30-556', 'HOME': '/root', 'PROTOCOL_BUFFERS_PYTHON_IMPLEMENTATION': 'cpp', 'ENVROOT': '/opt/amazon', 'SAGEMAKER_DATA_PATH': '/opt/ml', 'NVIDIA_DRIVER_CAPABILITIES': 'compute,utility', 'NVIDIA_REQUIRE_CUDA': 'cuda>=9.0', 'OMP_NUM_THREADS': '2', 'HOSTNAME': 'aws', 'AWS_CONTAINER_CREDENTIALS_RELATIVE_URI': '/v2/credentials/571b0fbf-2387-4035-9bec-0bb99e678c16', 'DMLC_ROLE': 'worker', 'PWD': '/', 'DMLC_NUM_SERVER': '1'}\u001b[0m\n",
      "\u001b[31m[09/29/2018 23:37:55 INFO 140453860910912] Using default worker.\u001b[0m\n",
      "\u001b[31m[09/29/2018 23:37:55 INFO 140453860910912] Loaded iterator creator application/x-recordio-protobuf for content type ('application/x-recordio-protobuf', '1.0')\u001b[0m\n",
      "\u001b[31m[09/29/2018 23:37:55 INFO 140453860910912] Verifying hyperparamemters...\u001b[0m\n",
      "\u001b[31m[09/29/2018 23:37:55 INFO 140453860910912] Hyperparameters are correct.\u001b[0m\n",
      "\u001b[31m[09/29/2018 23:37:55 INFO 140453860910912] Validating that feature_dim agrees with dimensions in training data...\u001b[0m\n",
      "\u001b[31m[09/29/2018 23:37:55 INFO 140453860910912] feature_dim is correct.\u001b[0m\n",
      "\u001b[31m[09/29/2018 23:37:55 INFO 140453860910912] Validating memory limits...\u001b[0m\n",
      "\u001b[31m[09/29/2018 23:37:55 INFO 140453860910912] Available memory in bytes: 6517678080\u001b[0m\n",
      "\u001b[31m[09/29/2018 23:37:55 INFO 140453860910912] Estimated sample size in bytes: 32768000\u001b[0m\n",
      "\u001b[31m[09/29/2018 23:37:55 INFO 140453860910912] Estimated memory needed to build the forest in bytes: 81920000\u001b[0m\n",
      "\u001b[31m[09/29/2018 23:37:55 INFO 140453860910912] Memory limits validated.\u001b[0m\n",
      "\u001b[31m[09/29/2018 23:37:55 INFO 140453860910912] Starting cluster sharing facilities...\u001b[0m\n",
      "\u001b[31m[09/29/2018 23:37:55 INFO 140453860910912] Create Store: dist_async\u001b[0m\n",
      "\u001b[31m[09/29/2018 23:37:55 INFO 140452421916416] >>> starting FTP server on 0.0.0.0:8999, pid=1 <<<\u001b[0m\n",
      "\u001b[31m[I 18-09-29 23:37:55] >>> starting FTP server on 0.0.0.0:8999, pid=1 <<<\u001b[0m\n",
      "\u001b[31m[I 18-09-29 23:37:55] poller: <class 'pyftpdlib.ioloop.Epoll'>\u001b[0m\n",
      "\u001b[31m[09/29/2018 23:37:55 INFO 140452421916416] poller: <class 'pyftpdlib.ioloop.Epoll'>\u001b[0m\n",
      "\u001b[31m[I 18-09-29 23:37:55] masquerade (NAT) address: None\u001b[0m\n",
      "\u001b[31m[09/29/2018 23:37:55 INFO 140452421916416] masquerade (NAT) address: None\u001b[0m\n",
      "\u001b[31m[I 18-09-29 23:37:55] passive ports: None\u001b[0m\n",
      "\u001b[31m[09/29/2018 23:37:55 INFO 140452421916416] passive ports: None\u001b[0m\n",
      "\u001b[31m[I 18-09-29 23:37:55] use sendfile(2): False\u001b[0m\n",
      "\u001b[31m[09/29/2018 23:37:55 INFO 140452421916416] use sendfile(2): False\u001b[0m\n",
      "\u001b[31m[09/29/2018 23:37:56 INFO 140453860910912] Cluster sharing facilities started.\u001b[0m\n",
      "\u001b[31m[09/29/2018 23:37:56 INFO 140453860910912] Verifying all workers are accessible...\u001b[0m\n",
      "\u001b[31m[09/29/2018 23:37:56 INFO 140453860910912] All workers accessible.\u001b[0m\n",
      "\u001b[31m[09/29/2018 23:37:56 INFO 140453860910912] Initializing Sampler...\u001b[0m\n",
      "\u001b[31m[09/29/2018 23:37:56 INFO 140453860910912] Sampler correctly initialized.\u001b[0m\n",
      "\u001b[31m#metrics {\"Metrics\": {\"initialize.time\": {\"count\": 1, \"max\": 659.8858833312988, \"sum\": 659.8858833312988, \"min\": 659.8858833312988}}, \"EndTime\": 1538264276.339591, \"Dimensions\": {\"Host\": \"algo-1\", \"Operation\": \"training\", \"Algorithm\": \"RandomCutForest\"}, \"StartTime\": 1538264275.654486}\n",
      "\u001b[0m\n",
      "\u001b[31m#metrics {\"Metrics\": {\"Max Batches Seen Between Resets\": {\"count\": 1, \"max\": 0, \"sum\": 0.0, \"min\": 0}, \"Number of Batches Since Last Reset\": {\"count\": 1, \"max\": 0, \"sum\": 0.0, \"min\": 0}, \"Number of Records Since Last Reset\": {\"count\": 1, \"max\": 0, \"sum\": 0.0, \"min\": 0}, \"Total Batches Seen\": {\"count\": 1, \"max\": 0, \"sum\": 0.0, \"min\": 0}, \"Total Records Seen\": {\"count\": 1, \"max\": 0, \"sum\": 0.0, \"min\": 0}, \"Max Records Seen Between Resets\": {\"count\": 1, \"max\": 0, \"sum\": 0.0, \"min\": 0}, \"Reset Count\": {\"count\": 1, \"max\": 0, \"sum\": 0.0, \"min\": 0}}, \"EndTime\": 1538264276.339766, \"Dimensions\": {\"Host\": \"algo-1\", \"Meta\": \"init_train_data_iter\", \"Operation\": \"training\", \"Algorithm\": \"RandomCutForest\"}, \"StartTime\": 1538264276.339728}\n",
      "\u001b[0m\n",
      "\u001b[31m[09/29/2018 23:37:56 INFO 140453860910912] Sampling training data...\u001b[0m\n",
      "\u001b[31m[09/29/2018 23:37:56 INFO 140453860910912] Sampling training data completed.\u001b[0m\n",
      "\u001b[31m#metrics {\"Metrics\": {\"epochs\": {\"count\": 1, \"max\": 1, \"sum\": 1.0, \"min\": 1}, \"update.time\": {\"count\": 1, \"max\": 82.03506469726562, \"sum\": 82.03506469726562, \"min\": 82.03506469726562}}, \"EndTime\": 1538264276.42207, \"Dimensions\": {\"Host\": \"algo-1\", \"Operation\": \"training\", \"Algorithm\": \"RandomCutForest\"}, \"StartTime\": 1538264276.339677}\n",
      "\u001b[0m\n",
      "\u001b[31m[09/29/2018 23:37:56 INFO 140453860910912] Early stop condition met. Stopping training.\u001b[0m\n",
      "\u001b[31m[09/29/2018 23:37:56 INFO 140453860910912] #progress_metric: host=algo-1, completed 100 % epochs\u001b[0m\n",
      "\u001b[31m#metrics {\"Metrics\": {\"Max Batches Seen Between Resets\": {\"count\": 1, \"max\": 41, \"sum\": 41.0, \"min\": 41}, \"Number of Batches Since Last Reset\": {\"count\": 1, \"max\": 41, \"sum\": 41.0, \"min\": 41}, \"Number of Records Since Last Reset\": {\"count\": 1, \"max\": 40320, \"sum\": 40320.0, \"min\": 40320}, \"Total Batches Seen\": {\"count\": 1, \"max\": 41, \"sum\": 41.0, \"min\": 41}, \"Total Records Seen\": {\"count\": 1, \"max\": 40320, \"sum\": 40320.0, \"min\": 40320}, \"Max Records Seen Between Resets\": {\"count\": 1, \"max\": 40320, \"sum\": 40320.0, \"min\": 40320}, \"Reset Count\": {\"count\": 1, \"max\": 1, \"sum\": 1.0, \"min\": 1}}, \"EndTime\": 1538264276.422408, \"Dimensions\": {\"Host\": \"algo-1\", \"Meta\": \"training_data_iter\", \"Operation\": \"training\", \"Algorithm\": \"RandomCutForest\", \"epoch\": 0}, \"StartTime\": 1538264276.340002}\n",
      "\u001b[0m\n",
      "\u001b[31m[09/29/2018 23:37:56 INFO 140453860910912] #throughput_metric: host=algo-1, train throughput=488656.776699 records/second\u001b[0m\n",
      "\u001b[31m[09/29/2018 23:37:56 INFO 140453860910912] Master node: building Random Cut Forest...\u001b[0m\n",
      "\u001b[31m[09/29/2018 23:37:56 INFO 140453860910912] Gathering samples...\u001b[0m\n",
      "\u001b[31m[09/29/2018 23:37:56 INFO 140453860910912] Samples gathered\u001b[0m\n",
      "\u001b[31m[09/29/2018 23:37:56 INFO 140453860910912] Building Random Cut Forest...\u001b[0m\n",
      "\u001b[31m[09/29/2018 23:37:56 INFO 140453860910912] Random Cut Forest built.\u001b[0m\n",
      "\u001b[31m#metrics {\"Metrics\": {\"finalize.time\": {\"count\": 1, \"max\": 38.33484649658203, \"sum\": 38.33484649658203, \"min\": 38.33484649658203}, \"fit_model.time\": {\"count\": 1, \"max\": 36.90505027770996, \"sum\": 36.90505027770996, \"min\": 36.90505027770996}}, \"EndTime\": 1538264276.461039, \"Dimensions\": {\"Host\": \"algo-1\", \"Operation\": \"training\", \"Algorithm\": \"RandomCutForest\"}, \"StartTime\": 1538264276.422152}\n",
      "\u001b[0m\n",
      "\u001b[31m[09/29/2018 23:37:56 INFO 140453860910912] Master node: Serializing the RandomCutForest model\u001b[0m\n",
      "\u001b[31m#metrics {\"Metrics\": {\"serialize_model.time\": {\"count\": 1, \"max\": 84.37705039978027, \"sum\": 84.37705039978027, \"min\": 84.37705039978027}}, \"EndTime\": 1538264276.545642, \"Dimensions\": {\"Host\": \"algo-1\", \"Operation\": \"training\", \"Algorithm\": \"RandomCutForest\"}, \"StartTime\": 1538264276.461117}\n",
      "\u001b[0m\n",
      "\u001b[31m[09/29/2018 23:37:56 INFO 140453860910912] Test data is not provided.\u001b[0m\n",
      "\u001b[31m[09/29/2018 23:37:56 INFO 140452421916416] >>> shutting down FTP server (0 active fds) <<<\u001b[0m\n",
      "\u001b[31m[I 18-09-29 23:37:56] >>> shutting down FTP server (0 active fds) <<<\u001b[0m\n",
      "\u001b[31m#metrics {\"Metrics\": {\"totaltime\": {\"count\": 1, \"max\": 1196.63405418396, \"sum\": 1196.63405418396, \"min\": 1196.63405418396}, \"setuptime\": {\"count\": 1, \"max\": 150.39801597595215, \"sum\": 150.39801597595215, \"min\": 150.39801597595215}}, \"EndTime\": 1538264276.657906, \"Dimensions\": {\"Host\": \"algo-1\", \"Operation\": \"training\", \"Algorithm\": \"RandomCutForest\"}, \"StartTime\": 1538264276.545714}\n",
      "\u001b[0m\n"
     ]
    },
    {
     "name": "stdout",
     "output_type": "stream",
     "text": [
      "\n",
      "2018-09-29 23:38:05 Completed - Training job completed\n",
      "Billable seconds: 54\n"
     ]
    }
   ],
   "source": [
    "# step 10: create the random cut forest object, defining two parameters: num_samples_per_tree and num_trees\n",
    "\n",
    "from sagemaker import RandomCutForest\n",
    "\n",
    "session = sagemaker.Session()\n",
    "\n",
    "# I found fastest response times when using only a single EC2 instsance at this step. \n",
    "rcf = RandomCutForest(role=execution_role,\n",
    "                      train_instance_count=1,\n",
    "                      train_instance_type='ml.c5.xlarge',\n",
    "                      data_location='s3://{}/{}/'.format(bucket, prefix),\n",
    "                      output_path='s3://{}/{}/output'.format(bucket, prefix),\n",
    "                      num_samples_per_tree=2048,\n",
    "                      num_trees=1000)\n",
    "     \n",
    "# automatically upload the training data to S3 and run the training job\n",
    "# the \".reshape(-1,1) rearranges the data into a single column. not sure why.\n",
    "# To get this to work, I needed to have fields literally named \"value\" and \"timestamp\" (see step 6 above)\n",
    "rcf.fit(rcf.record_set(df.value.as_matrix().reshape(-1,1)))\n"
   ]
  },
  {
   "cell_type": "code",
   "execution_count": null,
   "metadata": {},
   "outputs": [],
   "source": []
  },
  {
   "cell_type": "markdown",
   "metadata": {},
   "source": [
    "It takes a few minutes for the training instance to become available.\n",
    "\n",
    "Don't worry about the output text above turning red. That's not an indication of an error.\n",
    "\n",
    "You can view the status of a training job using the AWS SageMaker console. Just click on the \"Jobs\" tab and select training job matching the training job name, below.\n",
    "https://console.aws.amazon.com/sagemaker/home?region=us-east-1#/jobs\n",
    "\n",
    "If you see the message \n",
    "\n",
    "> `Billable seconds: nn`\n",
    "\n",
    "at the end of the output in the box above, that means training successfully completed and the output RCF model was stored in the specified output path.\n",
    "\n",
    "Building the model with the one-month extract took about 5 minutes and 60 billable seconds."
   ]
  },
  {
   "cell_type": "code",
   "execution_count": 12,
   "metadata": {},
   "outputs": [
    {
     "name": "stdout",
     "output_type": "stream",
     "text": [
      "Training job name: randomcutforest-2018-09-29-23-35-30-556\n"
     ]
    }
   ],
   "source": [
    "# Step 11: another reality check, confirming the name of the new training job. Not very helpful, atcually.\n",
    "print('Training job name: {}'.format(rcf.latest_training_job.job_name))"
   ]
  },
  {
   "cell_type": "markdown",
   "metadata": {},
   "source": [
    "# Inference\n",
    "\n",
    "***\n",
    "\n",
    "A trained Random Cut Forest model does nothing on its own. We now want to use the model we computed to perform inference on data. In this case, it means computing anomaly scores from input time series data points.\n",
    "\n",
    "We create an inference endpoint using the SageMaker Python SDK `deploy()` function from the job we defined above. We specify the instance type where inference is computed as well as an initial number of instances to spin up. We recommend using the `ml.c5` instance type as it provides the fastest inference time at the lowest cost. \n",
    "\n",
    "Make sure to delete the endpoint(s) after you are done with the inference. They are expensive if they are left running!"
   ]
  },
  {
   "cell_type": "code",
   "execution_count": 13,
   "metadata": {},
   "outputs": [
    {
     "name": "stderr",
     "output_type": "stream",
     "text": [
      "INFO:sagemaker:Creating model with name: randomcutforest-2018-09-29-23-44-58-167\n",
      "INFO:sagemaker:Creating endpoint with name randomcutforest-2018-09-29-23-35-30-556\n"
     ]
    },
    {
     "name": "stdout",
     "output_type": "stream",
     "text": [
      "---------------------------------------------------------------!"
     ]
    }
   ],
   "source": [
    "# Step 12:  spin up endpoint instances for generating anamaly scores. \n",
    "# At this point, we're just starting the endpoint machines, which takes some time.\n",
    "rcf_inference = rcf.deploy(\n",
    "    initial_instance_count=2,\n",
    "    instance_type='ml.c5.xlarge',\n",
    ")"
   ]
  },
  {
   "cell_type": "markdown",
   "metadata": {
    "collapsed": true
   },
   "source": [
    "Building the endpoint also takes some time. 5 or 10 minutes.\n",
    "\n",
    "You can confirm the endpoint configuration and status by navigating to the \"Endpoints\" tab in the AWS SageMaker console and selecting the endpoint matching the endpoint name, below.  (https://console.aws.amazon.com/sagemaker/home?region=us-east-1#/endpoints)\n",
    "\n",
    "Congratulations! You now have a functioning SageMaker RCF inference endpoint. "
   ]
  },
  {
   "cell_type": "code",
   "execution_count": 14,
   "metadata": {},
   "outputs": [
    {
     "name": "stdout",
     "output_type": "stream",
     "text": [
      "Endpoint name: randomcutforest-2018-09-29-23-35-30-556\n"
     ]
    }
   ],
   "source": [
    "# Step 13: another reality check. The name isn't important to know, but it's nice to know things are working so far.\n",
    "print('Endpoint name: {}'.format(rcf_inference.endpoint))"
   ]
  },
  {
   "cell_type": "markdown",
   "metadata": {},
   "source": [
    "## Data Serialization/Deserialization\n",
    "\n",
    "We can pass data in a variety of formats to our inference endpoint. In this example we will demonstrate passing CSV-formatted data. Other available formats are JSON-formatted and RecordIO Protobuf. We make use of the SageMaker Python SDK utilities `csv_serializer` and `json_deserializer` when configuring the inference endpoint."
   ]
  },
  {
   "cell_type": "code",
   "execution_count": 15,
   "metadata": {},
   "outputs": [],
   "source": [
    "# Step 14: getting ready to send data to the endpoint so that it will spit out anomaly scores\n",
    "\n",
    "from sagemaker.predictor import csv_serializer, json_deserializer\n",
    "\n",
    "rcf_inference.content_type = 'text/csv'\n",
    "rcf_inference.serializer = csv_serializer\n",
    "rcf_inference.accept = 'application/json'\n",
    "rcf_inference.deserializer = json_deserializer"
   ]
  },
  {
   "cell_type": "markdown",
   "metadata": {},
   "source": [
    "Let's pass the training dataset, in CSV format, to the inference endpoint so we can automatically detect the anomalies we saw with our eyes in the plots, above. Note that the serializer and deserializer will automatically take care of the datatype conversion from Numpy NDArrays.\n",
    "\n",
    "For starters, let's only pass in the first six datapoints so we can see what the output looks like."
   ]
  },
  {
   "cell_type": "code",
   "execution_count": 16,
   "metadata": {},
   "outputs": [
    {
     "name": "stdout",
     "output_type": "stream",
     "text": [
      "[[9.96182897]\n",
      " [0.421     ]\n",
      " [1.84636559]\n",
      " [2.05900025]\n",
      " [3.54326392]\n",
      " [1.0615    ]\n",
      " [4.77401023]\n",
      " [1.51016605]\n",
      " [0.297791  ]\n",
      " [4.43403334]]\n",
      "40320\n"
     ]
    }
   ],
   "source": [
    "# Step 15: Here we take the original data and reformat it according to the format we just specified in step 14. \n",
    "# And we peak at the first several values. We're only sending the 'value' data element for anomaly scoring. Is that right?\n",
    "df_numpy = df.value.as_matrix().reshape(-1,1)\n",
    "print(df_numpy[:10])"
   ]
  },
  {
   "cell_type": "code",
   "execution_count": 18,
   "metadata": {},
   "outputs": [
    {
     "name": "stdout",
     "output_type": "stream",
     "text": [
      "[{'score': 1.3020006497}, {'score': 0.933102363}, {'score': 0.7951078655}, {'score': 0.7936339972}, {'score': 0.8205886379}, {'score': 0.8235570901}, {'score': 0.864489771}, {'score': 0.7927229948}, {'score': 0.9693388384}, {'score': 0.8470221605}]\n"
     ]
    }
   ],
   "source": [
    "# Step 16: We generated anomaly scores for 10 records. let's look at them.\n",
    "results = rcf_inference.predict(df_numpy[:10])\n",
    "print(results['scores'])"
   ]
  },
  {
   "cell_type": "markdown",
   "metadata": {},
   "source": [
    "## Computing Anomaly Scores\n",
    "\n",
    "Now, let's compute and plot the anomaly scores from the entire bitcoin dataset.\n",
    "\n",
    "We can't get all the results at once - the dataset is too big: results = rcf_inference.predict(df_1yr2col_numpy) fails\n",
    "\n",
    "So this section\n",
    "- creates an object to hold the results, \n",
    "- breaks the dataset into blocks of 10,000, \n",
    "- retrieves anomaly scores for them, \n",
    "- and appends them to the results object.\n",
    "\n",
    "At 10,000 records per loop, this loops over 500 times for the one-year dataset, and takes a while."
   ]
  },
  {
   "cell_type": "code",
   "execution_count": 19,
   "metadata": {},
   "outputs": [
    {
     "name": "stdout",
     "output_type": "stream",
     "text": [
      "40320\n"
     ]
    }
   ],
   "source": [
    "# Step 17: Generate anomaly scores for the entire dataset, 10,000  records at a time.\n",
    "from collections import defaultdict\n",
    "results = defaultdict(list)\n",
    "\n",
    "# testing with a small subset to work out the logic of looping over even smaller subsets, e.g., 30 divided into subsets of 10\n",
    "#sample = df_1yr2col_numpy[0:29]\n",
    "\n",
    "# this function splits the dataset into n subsets\n",
    "def get_every_n(a, n=2):\n",
    "    for i in range((a.shape[0] // n) + 1):\n",
    "        yield a[n*i:n*(i+1)]\n",
    "\n",
    "#for subset in get_every_n(sample,10):    #testing with a small subset\n",
    "for subset in get_every_n(df_numpy,10000):\n",
    "    subset_results = rcf_inference.predict(subset)\n",
    "    for score in subset_results['scores']:\n",
    "        results['scores'].append(score)\n",
    "    #print(results)  #this should show results growing by n items per iteration\n",
    "\n",
    "# reality check - how many scores did we generate?\n",
    "print(len(results['scores']))"
   ]
  },
  {
   "cell_type": "code",
   "execution_count": 20,
   "metadata": {},
   "outputs": [
    {
     "data": {
      "text/html": [
       "<div>\n",
       "<style scoped>\n",
       "    .dataframe tbody tr th:only-of-type {\n",
       "        vertical-align: middle;\n",
       "    }\n",
       "\n",
       "    .dataframe tbody tr th {\n",
       "        vertical-align: top;\n",
       "    }\n",
       "\n",
       "    .dataframe thead th {\n",
       "        text-align: right;\n",
       "    }\n",
       "</style>\n",
       "<table border=\"1\" class=\"dataframe\">\n",
       "  <thead>\n",
       "    <tr style=\"text-align: right;\">\n",
       "      <th></th>\n",
       "      <th>timestamp</th>\n",
       "      <th>value</th>\n",
       "      <th>price</th>\n",
       "      <th>score</th>\n",
       "    </tr>\n",
       "  </thead>\n",
       "  <tbody>\n",
       "    <tr>\n",
       "      <th>0</th>\n",
       "      <td>2018-05-30 00:01:00</td>\n",
       "      <td>9.961829</td>\n",
       "      <td>813118.72628</td>\n",
       "      <td>1.302001</td>\n",
       "    </tr>\n",
       "    <tr>\n",
       "      <th>1</th>\n",
       "      <td>2018-05-30 00:02:00</td>\n",
       "      <td>0.421000</td>\n",
       "      <td>813087.64371</td>\n",
       "      <td>0.933102</td>\n",
       "    </tr>\n",
       "    <tr>\n",
       "      <th>2</th>\n",
       "      <td>2018-05-30 00:03:00</td>\n",
       "      <td>1.846366</td>\n",
       "      <td>813534.76321</td>\n",
       "      <td>0.795108</td>\n",
       "    </tr>\n",
       "    <tr>\n",
       "      <th>3</th>\n",
       "      <td>2018-05-30 00:04:00</td>\n",
       "      <td>2.059000</td>\n",
       "      <td>814188.19552</td>\n",
       "      <td>0.793634</td>\n",
       "    </tr>\n",
       "    <tr>\n",
       "      <th>4</th>\n",
       "      <td>2018-05-30 00:05:00</td>\n",
       "      <td>3.543264</td>\n",
       "      <td>813563.61022</td>\n",
       "      <td>0.820589</td>\n",
       "    </tr>\n",
       "    <tr>\n",
       "      <th>5</th>\n",
       "      <td>2018-05-30 00:06:00</td>\n",
       "      <td>1.061500</td>\n",
       "      <td>813394.63589</td>\n",
       "      <td>0.823557</td>\n",
       "    </tr>\n",
       "    <tr>\n",
       "      <th>6</th>\n",
       "      <td>2018-05-30 00:07:00</td>\n",
       "      <td>4.774010</td>\n",
       "      <td>813215.22764</td>\n",
       "      <td>0.864490</td>\n",
       "    </tr>\n",
       "    <tr>\n",
       "      <th>7</th>\n",
       "      <td>2018-05-30 00:08:00</td>\n",
       "      <td>1.510166</td>\n",
       "      <td>813002.79627</td>\n",
       "      <td>0.792723</td>\n",
       "    </tr>\n",
       "    <tr>\n",
       "      <th>8</th>\n",
       "      <td>2018-05-30 00:09:00</td>\n",
       "      <td>0.297791</td>\n",
       "      <td>812733.15735</td>\n",
       "      <td>0.969339</td>\n",
       "    </tr>\n",
       "    <tr>\n",
       "      <th>9</th>\n",
       "      <td>2018-05-30 00:10:00</td>\n",
       "      <td>4.434033</td>\n",
       "      <td>812996.19834</td>\n",
       "      <td>0.847022</td>\n",
       "    </tr>\n",
       "  </tbody>\n",
       "</table>\n",
       "</div>"
      ],
      "text/plain": [
       "            timestamp     value         price     score\n",
       "0 2018-05-30 00:01:00  9.961829  813118.72628  1.302001\n",
       "1 2018-05-30 00:02:00  0.421000  813087.64371  0.933102\n",
       "2 2018-05-30 00:03:00  1.846366  813534.76321  0.795108\n",
       "3 2018-05-30 00:04:00  2.059000  814188.19552  0.793634\n",
       "4 2018-05-30 00:05:00  3.543264  813563.61022  0.820589\n",
       "5 2018-05-30 00:06:00  1.061500  813394.63589  0.823557\n",
       "6 2018-05-30 00:07:00  4.774010  813215.22764  0.864490\n",
       "7 2018-05-30 00:08:00  1.510166  813002.79627  0.792723\n",
       "8 2018-05-30 00:09:00  0.297791  812733.15735  0.969339\n",
       "9 2018-05-30 00:10:00  4.434033  812996.19834  0.847022"
      ]
     },
     "execution_count": 20,
     "metadata": {},
     "output_type": "execute_result"
    }
   ],
   "source": [
    "# Step 18: add scores to bitcoin data frame and print first few values\n",
    "\n",
    "scores = [datum['score'] for datum in results['scores']]\n",
    "\n",
    "df['score'] = pd.Series(scores, index=df.index)\n",
    "df.head(10)"
   ]
  },
  {
   "cell_type": "code",
   "execution_count": 22,
   "metadata": {},
   "outputs": [
    {
     "data": {
      "text/plain": [
       "(40320, 4)"
      ]
     },
     "execution_count": 22,
     "metadata": {},
     "output_type": "execute_result"
    }
   ],
   "source": [
    "# Step 19: making sure things still make sense. What is in our main dataframe now?\n",
    "df.shape"
   ]
  },
  {
   "cell_type": "code",
   "execution_count": 23,
   "metadata": {},
   "outputs": [
    {
     "data": {
      "image/png": "[encoded data removed]",
      "text/plain": [
       "<Figure size 1000x400 with 2 Axes>"
      ]
     },
     "metadata": {},
     "output_type": "display_data"
    }
   ],
   "source": [
    "#Step 20: plot the anomaly scores on top of the volume chart, but don't plot too many points or things will die.\n",
    "\n",
    "fig, ax1 = plt.subplots()\n",
    "ax2 = ax1.twinx()\n",
    "\n",
    "# *Try this out* - change `start` and `end` to zoom in on the \n",
    "# anomaly found earlier in this notebook\n",
    "#\n",
    "#start, end = 0, len(df1)  # this would be the entire dataset, and it will fail\n",
    "start, end = 5500, 7500\n",
    "df_subset = df[start:end]\n",
    "\n",
    "ax1.plot(df_subset['value'], color='C0', alpha=0.8)\n",
    "ax2.plot(df_subset['score'], color='C1')\n",
    "\n",
    "ax1.grid(which='major', axis='both')\n",
    "\n",
    "ax1.set_ylabel('Bitcoin Trading Volume', color='C0')\n",
    "ax2.set_ylabel('Anomaly Score', color='C1')\n",
    "\n",
    "ax1.tick_params('y', colors='C0')\n",
    "ax2.tick_params('y', colors='C1')\n",
    "\n",
    "ax1.set_ylim(0, 60)\n",
    "ax2.set_ylim(min(scores), 4)\n",
    "fig.set_figwidth(10)"
   ]
  },
  {
   "cell_type": "markdown",
   "metadata": {},
   "source": [
    "If we try to chart too many data elements, it will take forever to run, if it completes rendering at all. 2,000 data points takes over 5 minutes, which makes no sense to me.\n",
    "\n",
    "Note that the anomaly score spikes where our eyeball-norm method suggests there is an anomalous data point as well as in some places where our eyeballs are not as accurate.\n",
    "\n",
    "Below we print and plot any data points with scores greater than 3 standard deviations (approx 99.9th percentile) from the mean score."
   ]
  },
  {
   "cell_type": "code",
   "execution_count": 24,
   "metadata": {},
   "outputs": [
    {
     "data": {
      "text/html": [
       "<div>\n",
       "<style scoped>\n",
       "    .dataframe tbody tr th:only-of-type {\n",
       "        vertical-align: middle;\n",
       "    }\n",
       "\n",
       "    .dataframe tbody tr th {\n",
       "        vertical-align: top;\n",
       "    }\n",
       "\n",
       "    .dataframe thead th {\n",
       "        text-align: right;\n",
       "    }\n",
       "</style>\n",
       "<table border=\"1\" class=\"dataframe\">\n",
       "  <thead>\n",
       "    <tr style=\"text-align: right;\">\n",
       "      <th></th>\n",
       "      <th>timestamp</th>\n",
       "      <th>value</th>\n",
       "      <th>price</th>\n",
       "      <th>score</th>\n",
       "    </tr>\n",
       "  </thead>\n",
       "  <tbody>\n",
       "    <tr>\n",
       "      <th>5925</th>\n",
       "      <td>2018-06-03 02:46:00</td>\n",
       "      <td>40.895463</td>\n",
       "      <td>831455.35705</td>\n",
       "      <td>3.314708</td>\n",
       "    </tr>\n",
       "    <tr>\n",
       "      <th>6157</th>\n",
       "      <td>2018-06-03 06:38:00</td>\n",
       "      <td>72.784258</td>\n",
       "      <td>838683.92024</td>\n",
       "      <td>4.080215</td>\n",
       "    </tr>\n",
       "    <tr>\n",
       "      <th>6158</th>\n",
       "      <td>2018-06-03 06:39:00</td>\n",
       "      <td>69.754692</td>\n",
       "      <td>840507.60105</td>\n",
       "      <td>4.031670</td>\n",
       "    </tr>\n",
       "    <tr>\n",
       "      <th>6159</th>\n",
       "      <td>2018-06-03 06:40:00</td>\n",
       "      <td>78.789453</td>\n",
       "      <td>843748.90896</td>\n",
       "      <td>4.165863</td>\n",
       "    </tr>\n",
       "    <tr>\n",
       "      <th>6160</th>\n",
       "      <td>2018-06-03 06:41:00</td>\n",
       "      <td>75.351085</td>\n",
       "      <td>845907.40337</td>\n",
       "      <td>4.117729</td>\n",
       "    </tr>\n",
       "    <tr>\n",
       "      <th>6240</th>\n",
       "      <td>2018-06-03 08:01:00</td>\n",
       "      <td>29.381822</td>\n",
       "      <td>843266.06914</td>\n",
       "      <td>2.820833</td>\n",
       "    </tr>\n",
       "    <tr>\n",
       "      <th>6269</th>\n",
       "      <td>2018-06-03 08:30:00</td>\n",
       "      <td>36.232557</td>\n",
       "      <td>845459.38761</td>\n",
       "      <td>3.135725</td>\n",
       "    </tr>\n",
       "    <tr>\n",
       "      <th>6393</th>\n",
       "      <td>2018-06-03 10:34:00</td>\n",
       "      <td>87.628643</td>\n",
       "      <td>844580.22899</td>\n",
       "      <td>4.279047</td>\n",
       "    </tr>\n",
       "    <tr>\n",
       "      <th>6395</th>\n",
       "      <td>2018-06-03 10:36:00</td>\n",
       "      <td>44.382115</td>\n",
       "      <td>844076.00392</td>\n",
       "      <td>3.432091</td>\n",
       "    </tr>\n",
       "    <tr>\n",
       "      <th>6396</th>\n",
       "      <td>2018-06-03 10:37:00</td>\n",
       "      <td>36.438271</td>\n",
       "      <td>843833.08912</td>\n",
       "      <td>3.143494</td>\n",
       "    </tr>\n",
       "    <tr>\n",
       "      <th>6397</th>\n",
       "      <td>2018-06-03 10:38:00</td>\n",
       "      <td>106.006299</td>\n",
       "      <td>843059.26844</td>\n",
       "      <td>4.454206</td>\n",
       "    </tr>\n",
       "    <tr>\n",
       "      <th>6921</th>\n",
       "      <td>2018-06-03 19:22:00</td>\n",
       "      <td>59.797423</td>\n",
       "      <td>840046.73235</td>\n",
       "      <td>3.844411</td>\n",
       "    </tr>\n",
       "    <tr>\n",
       "      <th>6931</th>\n",
       "      <td>2018-06-03 19:32:00</td>\n",
       "      <td>38.291789</td>\n",
       "      <td>843007.03758</td>\n",
       "      <td>3.218608</td>\n",
       "    </tr>\n",
       "    <tr>\n",
       "      <th>6940</th>\n",
       "      <td>2018-06-03 19:41:00</td>\n",
       "      <td>30.745343</td>\n",
       "      <td>844220.87326</td>\n",
       "      <td>2.889453</td>\n",
       "    </tr>\n",
       "    <tr>\n",
       "      <th>7230</th>\n",
       "      <td>2018-06-04 00:31:00</td>\n",
       "      <td>78.165295</td>\n",
       "      <td>849394.88617</td>\n",
       "      <td>4.156740</td>\n",
       "    </tr>\n",
       "    <tr>\n",
       "      <th>7292</th>\n",
       "      <td>2018-06-04 01:33:00</td>\n",
       "      <td>47.337911</td>\n",
       "      <td>846347.32570</td>\n",
       "      <td>3.524551</td>\n",
       "    </tr>\n",
       "    <tr>\n",
       "      <th>7293</th>\n",
       "      <td>2018-06-04 01:34:00</td>\n",
       "      <td>60.346078</td>\n",
       "      <td>845213.65998</td>\n",
       "      <td>3.855663</td>\n",
       "    </tr>\n",
       "    <tr>\n",
       "      <th>7294</th>\n",
       "      <td>2018-06-04 01:35:00</td>\n",
       "      <td>51.013063</td>\n",
       "      <td>844597.60121</td>\n",
       "      <td>3.629150</td>\n",
       "    </tr>\n",
       "    <tr>\n",
       "      <th>7300</th>\n",
       "      <td>2018-06-04 01:41:00</td>\n",
       "      <td>47.757663</td>\n",
       "      <td>843643.27045</td>\n",
       "      <td>3.536058</td>\n",
       "    </tr>\n",
       "    <tr>\n",
       "      <th>7430</th>\n",
       "      <td>2018-06-04 03:51:00</td>\n",
       "      <td>29.405773</td>\n",
       "      <td>845511.03705</td>\n",
       "      <td>2.821899</td>\n",
       "    </tr>\n",
       "  </tbody>\n",
       "</table>\n",
       "</div>"
      ],
      "text/plain": [
       "               timestamp       value         price     score\n",
       "5925 2018-06-03 02:46:00   40.895463  831455.35705  3.314708\n",
       "6157 2018-06-03 06:38:00   72.784258  838683.92024  4.080215\n",
       "6158 2018-06-03 06:39:00   69.754692  840507.60105  4.031670\n",
       "6159 2018-06-03 06:40:00   78.789453  843748.90896  4.165863\n",
       "6160 2018-06-03 06:41:00   75.351085  845907.40337  4.117729\n",
       "6240 2018-06-03 08:01:00   29.381822  843266.06914  2.820833\n",
       "6269 2018-06-03 08:30:00   36.232557  845459.38761  3.135725\n",
       "6393 2018-06-03 10:34:00   87.628643  844580.22899  4.279047\n",
       "6395 2018-06-03 10:36:00   44.382115  844076.00392  3.432091\n",
       "6396 2018-06-03 10:37:00   36.438271  843833.08912  3.143494\n",
       "6397 2018-06-03 10:38:00  106.006299  843059.26844  4.454206\n",
       "6921 2018-06-03 19:22:00   59.797423  840046.73235  3.844411\n",
       "6931 2018-06-03 19:32:00   38.291789  843007.03758  3.218608\n",
       "6940 2018-06-03 19:41:00   30.745343  844220.87326  2.889453\n",
       "7230 2018-06-04 00:31:00   78.165295  849394.88617  4.156740\n",
       "7292 2018-06-04 01:33:00   47.337911  846347.32570  3.524551\n",
       "7293 2018-06-04 01:34:00   60.346078  845213.65998  3.855663\n",
       "7294 2018-06-04 01:35:00   51.013063  844597.60121  3.629150\n",
       "7300 2018-06-04 01:41:00   47.757663  843643.27045  3.536058\n",
       "7430 2018-06-04 03:51:00   29.405773  845511.03705  2.821899"
      ]
     },
     "execution_count": 24,
     "metadata": {},
     "output_type": "execute_result"
    }
   ],
   "source": [
    "# Step 21: find all points where the anomaly score is greater than 3 standard deviations from the mean\n",
    "\n",
    "score_mean = df['score'].mean()\n",
    "score_std = df['score'].std()\n",
    "score_cutoff = score_mean + 3*score_std\n",
    "\n",
    "anomalies = df_subset[df_subset['score'] > score_cutoff]\n",
    "anomalies"
   ]
  },
  {
   "cell_type": "code",
   "execution_count": 25,
   "metadata": {},
   "outputs": [
    {
     "data": {
      "image/png": "[encoded data removed]",
      "text/plain": [
       "<Figure size 1000x400 with 2 Axes>"
      ]
     },
     "execution_count": 25,
     "metadata": {},
     "output_type": "execute_result"
    }
   ],
   "source": [
    "# Step 22: add the outlier anomalies to the plot\n",
    "ax2.plot(anomalies.index, anomalies.score, 'ko')\n",
    "fig"
   ]
  },
  {
   "cell_type": "markdown",
   "metadata": {},
   "source": [
    "With the current hyperparameter choices we see that the three-standard-deviation threshold, while able to capture the known anomalies as well as the ones apparent in the ridership plot, is rather sensitive to fine-grained peruturbations and anomalous behavior. Adding trees to the SageMaker RCF model could smooth out the results as well as using a larger data set."
   ]
  },
  {
   "cell_type": "markdown",
   "metadata": {},
   "source": [
    "## Stop and Delete the Endpoint\n",
    "\n",
    "Finally, we should delete the endpoint before we close the notebook.\n",
    "\n",
    "To do so execute the cell below. Alternately, you can navigate to the \"Endpoints\" tab in the SageMaker console, select the endpoint with the name stored in the variable `endpoint_name`, and select \"Delete\" from the \"Actions\" dropdown menu. "
   ]
  },
  {
   "cell_type": "code",
   "execution_count": 26,
   "metadata": {},
   "outputs": [
    {
     "name": "stderr",
     "output_type": "stream",
     "text": [
      "INFO:sagemaker:Deleting endpoint with name: randomcutforest-2018-09-29-23-35-30-556\n"
     ]
    }
   ],
   "source": [
    "sagemaker.Session().delete_endpoint(rcf_inference.endpoint)"
   ]
  },
  {
   "cell_type": "markdown",
   "metadata": {},
   "source": [
    "# Epilogue\n",
    "\n",
    "---\n",
    "\n",
    "We used Amazon SageMaker Random Cut Forest to detect anomalous datapoints in a taxi ridership dataset. In these data the anomalies occurred when ridership was uncharacteristically high or low. However, the RCF algorithm is also capable of detecting when, for example, data breaks periodicity or uncharacteristically changes global behavior.\n",
    "\n",
    "Depending on the kind of data you have there are several ways to improve algorithm performance. One method, for example, is to use an appropriate training set. If you know that a particular set of data is characteristic of \"normal\" behavior then training on said set of data will more accurately characterize \"abnormal\" data.\n",
    "\n",
    "Another improvement is make use of a windowing technique called \"shingling\". This is especially useful when working with periodic data with known period, such as the NYC taxi dataset used above. The idea is to treat a period of $P$ datapoints as a single datapoint of feature length $P$ and then run the RCF algorithm on these feature vectors. That is, if our original data consists of points $x_1, x_2, \\ldots, x_N \\in \\mathbb{R}$ then we perform the transformation,\n",
    "\n",
    "```\n",
    "data = [[x_1],            shingled_data = [[x_1, x_2, ..., x_{P}],\n",
    "        [x_2],    --->                     [x_2, x_3, ..., x_{P+1}],\n",
    "        ...                                ...\n",
    "        [x_N]]                             [x_{N-P}, ..., x_{N}]]\n",
    "\n",
    "```"
   ]
  },
  {
   "cell_type": "code",
   "execution_count": 50,
   "metadata": {},
   "outputs": [
    {
     "name": "stdout",
     "output_type": "stream",
     "text": [
      "            timestamp     value         price     score\n",
      "2 2017-07-04 08:03:00  5.527494  296063.83615  0.708205\n",
      "3 2017-07-04 08:04:00  8.414064  296125.66780  0.724346\n",
      "4 2017-07-04 08:05:00  3.993010  296340.78573  0.721980\n",
      "5 2017-07-04 08:06:00  4.112958  296216.13506  0.720866\n"
     ]
    }
   ],
   "source": [
    "#figuring out how to filter a numpy array based on conditionals\n",
    "snip = df[(df['timestamp'] > '2017-07-04 08:02:00') & ('2017-07-04 08:07:00' > df['timestamp'])]\n",
    "print(snip)"
   ]
  },
  {
   "cell_type": "code",
   "execution_count": 112,
   "metadata": {},
   "outputs": [
    {
     "ename": "MemoryError",
     "evalue": "",
     "output_type": "error",
     "traceback": [
      "\u001b[0;31m---------------------------------------------------------------------------\u001b[0m",
      "\u001b[0;31mMemoryError\u001b[0m                               Traceback (most recent call last)",
      "\u001b[0;32m<ipython-input-112-969706230f38>\u001b[0m in \u001b[0;36m<module>\u001b[0;34m()\u001b[0m\n\u001b[1;32m     12\u001b[0m \u001b[0mshingle_size\u001b[0m \u001b[0;34m=\u001b[0m \u001b[0;36m60\u001b[0m\u001b[0;34m*\u001b[0m\u001b[0;36m24\u001b[0m\u001b[0;34m\u001b[0m\u001b[0m\n\u001b[1;32m     13\u001b[0m \u001b[0mprefix_shingled\u001b[0m \u001b[0;34m=\u001b[0m \u001b[0;34m'sagemaker/randomcutforest_shingled'\u001b[0m\u001b[0;34m\u001b[0m\u001b[0m\n\u001b[0;32m---> 14\u001b[0;31m \u001b[0mdf_1yr2col_shingled\u001b[0m \u001b[0;34m=\u001b[0m \u001b[0mshingle\u001b[0m\u001b[0;34m(\u001b[0m\u001b[0mdf_1yr2col\u001b[0m\u001b[0;34m.\u001b[0m\u001b[0mvalues\u001b[0m\u001b[0;34m[\u001b[0m\u001b[0;34m:\u001b[0m\u001b[0;34m,\u001b[0m\u001b[0;36m1\u001b[0m\u001b[0;34m]\u001b[0m\u001b[0;34m,\u001b[0m \u001b[0mshingle_size\u001b[0m\u001b[0;34m)\u001b[0m\u001b[0;34m\u001b[0m\u001b[0m\n\u001b[0m\u001b[1;32m     15\u001b[0m \u001b[0mprint\u001b[0m\u001b[0;34m(\u001b[0m\u001b[0mdf_1yr2col_shingled\u001b[0m\u001b[0;34m)\u001b[0m\u001b[0;34m\u001b[0m\u001b[0m\n",
      "\u001b[0;32m<ipython-input-112-969706230f38>\u001b[0m in \u001b[0;36mshingle\u001b[0;34m(data, shingle_size)\u001b[0m\n\u001b[1;32m      3\u001b[0m \u001b[0;32mdef\u001b[0m \u001b[0mshingle\u001b[0m\u001b[0;34m(\u001b[0m\u001b[0mdata\u001b[0m\u001b[0;34m,\u001b[0m \u001b[0mshingle_size\u001b[0m\u001b[0;34m)\u001b[0m\u001b[0;34m:\u001b[0m\u001b[0;34m\u001b[0m\u001b[0m\n\u001b[1;32m      4\u001b[0m     \u001b[0mnum_data\u001b[0m \u001b[0;34m=\u001b[0m \u001b[0mlen\u001b[0m\u001b[0;34m(\u001b[0m\u001b[0mdata\u001b[0m\u001b[0;34m)\u001b[0m\u001b[0;34m\u001b[0m\u001b[0m\n\u001b[0;32m----> 5\u001b[0;31m     \u001b[0mshingled_data\u001b[0m \u001b[0;34m=\u001b[0m \u001b[0mnp\u001b[0m\u001b[0;34m.\u001b[0m\u001b[0mzeros\u001b[0m\u001b[0;34m(\u001b[0m\u001b[0;34m(\u001b[0m\u001b[0mnum_data\u001b[0m\u001b[0;34m-\u001b[0m\u001b[0mshingle_size\u001b[0m\u001b[0;34m,\u001b[0m \u001b[0mshingle_size\u001b[0m\u001b[0;34m)\u001b[0m\u001b[0;34m)\u001b[0m\u001b[0;34m\u001b[0m\u001b[0m\n\u001b[0m\u001b[1;32m      6\u001b[0m \u001b[0;34m\u001b[0m\u001b[0m\n\u001b[1;32m      7\u001b[0m     \u001b[0;32mfor\u001b[0m \u001b[0mn\u001b[0m \u001b[0;32min\u001b[0m \u001b[0mrange\u001b[0m\u001b[0;34m(\u001b[0m\u001b[0mnum_data\u001b[0m \u001b[0;34m-\u001b[0m \u001b[0mshingle_size\u001b[0m\u001b[0;34m)\u001b[0m\u001b[0;34m:\u001b[0m\u001b[0;34m\u001b[0m\u001b[0m\n",
      "\u001b[0;31mMemoryError\u001b[0m: "
     ]
    }
   ],
   "source": [
    "import numpy as np\n",
    "\n",
    "def shingle(data, shingle_size):\n",
    "    num_data = len(data)\n",
    "    shingled_data = np.zeros((num_data-shingle_size, shingle_size))\n",
    "    \n",
    "    for n in range(num_data - shingle_size):\n",
    "        shingled_data[n] = data[n:(n+shingle_size)]\n",
    "    return shingled_data\n",
    "\n",
    "# single data with shingle size=1440 (one day)\n",
    "shingle_size = 1440\n",
    "prefix_shingled = 'sagemaker/randomcutforest_shingled'\n",
    "df_shingled = shingle(df.values[:,1], shingle_size)\n",
    "print(df_shingled)"
   ]
  },
  {
   "cell_type": "markdown",
   "metadata": {},
   "source": [
    "We create a new training job and and inference endpoint. (Note that we cannot re-use the endpoint created above because it was trained with one-dimensional data.)"
   ]
  },
  {
   "cell_type": "code",
   "execution_count": 19,
   "metadata": {},
   "outputs": [
    {
     "name": "stderr",
     "output_type": "stream",
     "text": [
      "INFO:sagemaker:Creating training-job with name: randomcutforest-2018-09-23-01-04-36-549\n"
     ]
    },
    {
     "name": "stdout",
     "output_type": "stream",
     "text": [
      "...................\n",
      "\u001b[31mDocker entrypoint called with argument(s): train\u001b[0m\n",
      "\u001b[31m[09/23/2018 01:07:41 INFO 140089343383360] Reading default configuration from /opt/amazon/lib/python2.7/site-packages/algorithm/resources/default-conf.json: {u'_ftp_port': 8999, u'num_samples_per_tree': 256, u'_tuning_objective_metric': u'', u'_num_gpus': u'auto', u'_log_level': u'info', u'_kvstore': u'dist_async', u'force_dense': u'true', u'epochs': 1, u'num_trees': 100, u'eval_metrics': [u'accuracy', u'precision_recall_fscore'], u'_num_kv_servers': u'auto', u'mini_batch_size': 1000}\u001b[0m\n",
      "\u001b[31m[09/23/2018 01:07:41 INFO 140089343383360] Reading provided configuration from /opt/ml/input/config/hyperparameters.json: {u'mini_batch_size': u'1000', u'feature_dim': u'48', u'num_samples_per_tree': u'512', u'num_trees': u'50'}\u001b[0m\n",
      "\u001b[31m[09/23/2018 01:07:41 INFO 140089343383360] Final configuration: {u'_ftp_port': 8999, u'num_samples_per_tree': u'512', u'_tuning_objective_metric': u'', u'_num_gpus': u'auto', u'_log_level': u'info', u'_kvstore': u'dist_async', u'force_dense': u'true', u'epochs': 1, u'feature_dim': u'48', u'num_trees': u'50', u'eval_metrics': [u'accuracy', u'precision_recall_fscore'], u'_num_kv_servers': u'auto', u'mini_batch_size': u'1000'}\u001b[0m\n",
      "\u001b[31m[09/23/2018 01:07:41 WARNING 140089343383360] Loggers have already been setup.\u001b[0m\n",
      "\u001b[31m[09/23/2018 01:07:41 INFO 140089343383360] Launching parameter server for role scheduler\u001b[0m\n",
      "\u001b[31m[09/23/2018 01:07:41 INFO 140089343383360] {'ECS_CONTAINER_METADATA_URI': 'http://169.254.170.2/v3/120a721b-22fc-4b80-bfd8-cd8021d48861', 'PROTOCOL_BUFFERS_PYTHON_IMPLEMENTATION_VERSION': '2', 'PATH': '/opt/amazon/bin:/usr/local/nvidia/bin:/usr/local/sbin:/usr/local/bin:/usr/sbin:/usr/bin:/sbin:/bin:/opt/amazon/bin:/opt/amazon/bin', 'SAGEMAKER_HTTP_PORT': '8080', 'HOME': '/root', 'PYTHONUNBUFFERED': 'TRUE', 'CANONICAL_ENVROOT': '/opt/amazon', 'LD_LIBRARY_PATH': '/usr/local/nvidia/lib64:/opt/amazon/lib', 'MXNET_KVSTORE_BIGARRAY_BOUND': '400000000', 'LANG': 'en_US.utf8', 'DMLC_INTERFACE': 'ethwe', 'SHLVL': '1', 'AWS_REGION': 'us-east-1', 'NVIDIA_VISIBLE_DEVICES': 'all', 'TRAINING_JOB_NAME': 'randomcutforest-2018-09-23-01-04-36-549', 'PROTOCOL_BUFFERS_PYTHON_IMPLEMENTATION': 'cpp', 'ENVROOT': '/opt/amazon', 'SAGEMAKER_DATA_PATH': '/opt/ml', 'NVIDIA_DRIVER_CAPABILITIES': 'compute,utility', 'NVIDIA_REQUIRE_CUDA': 'cuda>=9.0', 'OMP_NUM_THREADS': '2', 'HOSTNAME': 'aws', 'AWS_CONTAINER_CREDENTIALS_RELATIVE_URI': '/v2/credentials/c41780d1-8357-46e0-b6c5-1df34e7fe986', 'PWD': '/'}\u001b[0m\n",
      "\u001b[31m[09/23/2018 01:07:41 INFO 140089343383360] envs={'ECS_CONTAINER_METADATA_URI': 'http://169.254.170.2/v3/120a721b-22fc-4b80-bfd8-cd8021d48861', 'PROTOCOL_BUFFERS_PYTHON_IMPLEMENTATION_VERSION': '2', 'DMLC_NUM_WORKER': '1', 'DMLC_PS_ROOT_PORT': '9000', 'PATH': '/opt/amazon/bin:/usr/local/nvidia/bin:/usr/local/sbin:/usr/local/bin:/usr/sbin:/usr/bin:/sbin:/bin:/opt/amazon/bin:/opt/amazon/bin', 'SAGEMAKER_HTTP_PORT': '8080', 'HOME': '/root', 'PYTHONUNBUFFERED': 'TRUE', 'CANONICAL_ENVROOT': '/opt/amazon', 'LD_LIBRARY_PATH': '/usr/local/nvidia/lib64:/opt/amazon/lib', 'MXNET_KVSTORE_BIGARRAY_BOUND': '400000000', 'LANG': 'en_US.utf8', 'DMLC_INTERFACE': 'ethwe', 'SHLVL': '1', 'DMLC_PS_ROOT_URI': '10.32.0.4', 'AWS_REGION': 'us-east-1', 'NVIDIA_VISIBLE_DEVICES': 'all', 'TRAINING_JOB_NAME': 'randomcutforest-2018-09-23-01-04-36-549', 'PROTOCOL_BUFFERS_PYTHON_IMPLEMENTATION': 'cpp', 'ENVROOT': '/opt/amazon', 'SAGEMAKER_DATA_PATH': '/opt/ml', 'NVIDIA_DRIVER_CAPABILITIES': 'compute,utility', 'NVIDIA_REQUIRE_CUDA': 'cuda>=9.0', 'OMP_NUM_THREADS': '2', 'HOSTNAME': 'aws', 'AWS_CONTAINER_CREDENTIALS_RELATIVE_URI': '/v2/credentials/c41780d1-8357-46e0-b6c5-1df34e7fe986', 'DMLC_ROLE': 'scheduler', 'PWD': '/', 'DMLC_NUM_SERVER': '1'}\u001b[0m\n",
      "\u001b[31m[09/23/2018 01:07:41 INFO 140089343383360] Launching parameter server for role server\u001b[0m\n",
      "\u001b[31m[09/23/2018 01:07:41 INFO 140089343383360] {'ECS_CONTAINER_METADATA_URI': 'http://169.254.170.2/v3/120a721b-22fc-4b80-bfd8-cd8021d48861', 'PROTOCOL_BUFFERS_PYTHON_IMPLEMENTATION_VERSION': '2', 'PATH': '/opt/amazon/bin:/usr/local/nvidia/bin:/usr/local/sbin:/usr/local/bin:/usr/sbin:/usr/bin:/sbin:/bin:/opt/amazon/bin:/opt/amazon/bin', 'SAGEMAKER_HTTP_PORT': '8080', 'HOME': '/root', 'PYTHONUNBUFFERED': 'TRUE', 'CANONICAL_ENVROOT': '/opt/amazon', 'LD_LIBRARY_PATH': '/usr/local/nvidia/lib64:/opt/amazon/lib', 'MXNET_KVSTORE_BIGARRAY_BOUND': '400000000', 'LANG': 'en_US.utf8', 'DMLC_INTERFACE': 'ethwe', 'SHLVL': '1', 'AWS_REGION': 'us-east-1', 'NVIDIA_VISIBLE_DEVICES': 'all', 'TRAINING_JOB_NAME': 'randomcutforest-2018-09-23-01-04-36-549', 'PROTOCOL_BUFFERS_PYTHON_IMPLEMENTATION': 'cpp', 'ENVROOT': '/opt/amazon', 'SAGEMAKER_DATA_PATH': '/opt/ml', 'NVIDIA_DRIVER_CAPABILITIES': 'compute,utility', 'NVIDIA_REQUIRE_CUDA': 'cuda>=9.0', 'OMP_NUM_THREADS': '2', 'HOSTNAME': 'aws', 'AWS_CONTAINER_CREDENTIALS_RELATIVE_URI': '/v2/credentials/c41780d1-8357-46e0-b6c5-1df34e7fe986', 'PWD': '/'}\u001b[0m\n",
      "\u001b[31m[09/23/2018 01:07:41 INFO 140089343383360] envs={'ECS_CONTAINER_METADATA_URI': 'http://169.254.170.2/v3/120a721b-22fc-4b80-bfd8-cd8021d48861', 'PROTOCOL_BUFFERS_PYTHON_IMPLEMENTATION_VERSION': '2', 'DMLC_NUM_WORKER': '1', 'DMLC_PS_ROOT_PORT': '9000', 'PATH': '/opt/amazon/bin:/usr/local/nvidia/bin:/usr/local/sbin:/usr/local/bin:/usr/sbin:/usr/bin:/sbin:/bin:/opt/amazon/bin:/opt/amazon/bin', 'SAGEMAKER_HTTP_PORT': '8080', 'HOME': '/root', 'PYTHONUNBUFFERED': 'TRUE', 'CANONICAL_ENVROOT': '/opt/amazon', 'LD_LIBRARY_PATH': '/usr/local/nvidia/lib64:/opt/amazon/lib', 'MXNET_KVSTORE_BIGARRAY_BOUND': '400000000', 'LANG': 'en_US.utf8', 'DMLC_INTERFACE': 'ethwe', 'SHLVL': '1', 'DMLC_PS_ROOT_URI': '10.32.0.4', 'AWS_REGION': 'us-east-1', 'NVIDIA_VISIBLE_DEVICES': 'all', 'TRAINING_JOB_NAME': 'randomcutforest-2018-09-23-01-04-36-549', 'PROTOCOL_BUFFERS_PYTHON_IMPLEMENTATION': 'cpp', 'ENVROOT': '/opt/amazon', 'SAGEMAKER_DATA_PATH': '/opt/ml', 'NVIDIA_DRIVER_CAPABILITIES': 'compute,utility', 'NVIDIA_REQUIRE_CUDA': 'cuda>=9.0', 'OMP_NUM_THREADS': '2', 'HOSTNAME': 'aws', 'AWS_CONTAINER_CREDENTIALS_RELATIVE_URI': '/v2/credentials/c41780d1-8357-46e0-b6c5-1df34e7fe986', 'DMLC_ROLE': 'server', 'PWD': '/', 'DMLC_NUM_SERVER': '1'}\u001b[0m\n",
      "\u001b[31m[09/23/2018 01:07:41 INFO 140089343383360] Environment: {'ECS_CONTAINER_METADATA_URI': 'http://169.254.170.2/v3/120a721b-22fc-4b80-bfd8-cd8021d48861', 'PROTOCOL_BUFFERS_PYTHON_IMPLEMENTATION_VERSION': '2', 'DMLC_PS_ROOT_PORT': '9000', 'DMLC_NUM_WORKER': '1', 'SAGEMAKER_HTTP_PORT': '8080', 'PATH': '/opt/amazon/bin:/usr/local/nvidia/bin:/usr/local/sbin:/usr/local/bin:/usr/sbin:/usr/bin:/sbin:/bin:/opt/amazon/bin:/opt/amazon/bin', 'PYTHONUNBUFFERED': 'TRUE', 'CANONICAL_ENVROOT': '/opt/amazon', 'LD_LIBRARY_PATH': '/usr/local/nvidia/lib64:/opt/amazon/lib', 'MXNET_KVSTORE_BIGARRAY_BOUND': '400000000', 'LANG': 'en_US.utf8', 'DMLC_INTERFACE': 'ethwe', 'SHLVL': '1', 'DMLC_PS_ROOT_URI': '10.32.0.4', 'AWS_REGION': 'us-east-1', 'NVIDIA_VISIBLE_DEVICES': 'all', 'TRAINING_JOB_NAME': 'randomcutforest-2018-09-23-01-04-36-549', 'HOME': '/root', 'PROTOCOL_BUFFERS_PYTHON_IMPLEMENTATION': 'cpp', 'ENVROOT': '/opt/amazon', 'SAGEMAKER_DATA_PATH': '/opt/ml', 'NVIDIA_DRIVER_CAPABILITIES': 'compute,utility', 'NVIDIA_REQUIRE_CUDA': 'cuda>=9.0', 'OMP_NUM_THREADS': '2', 'HOSTNAME': 'aws', 'AWS_CONTAINER_CREDENTIALS_RELATIVE_URI': '/v2/credentials/c41780d1-8357-46e0-b6c5-1df34e7fe986', 'DMLC_ROLE': 'worker', 'PWD': '/', 'DMLC_NUM_SERVER': '1'}\u001b[0m\n",
      "\u001b[31m[09/23/2018 01:07:41 INFO 140089343383360] Using default worker.\u001b[0m\n",
      "\u001b[31m[09/23/2018 01:07:41 INFO 140089343383360] Loaded iterator creator application/x-recordio-protobuf for content type ('application/x-recordio-protobuf', '1.0')\u001b[0m\n",
      "\u001b[31m[09/23/2018 01:07:41 INFO 140089343383360] Verifying hyperparamemters...\u001b[0m\n",
      "\u001b[31m[09/23/2018 01:07:41 INFO 140089343383360] Hyperparameters are correct.\u001b[0m\n",
      "\u001b[31m[09/23/2018 01:07:41 INFO 140089343383360] Validating that feature_dim agrees with dimensions in training data...\u001b[0m\n",
      "\u001b[31m[09/23/2018 01:07:41 INFO 140089343383360] feature_dim is correct.\u001b[0m\n",
      "\u001b[31m[09/23/2018 01:07:41 INFO 140089343383360] Validating memory limits...\u001b[0m\n",
      "\u001b[31m[09/23/2018 01:07:41 INFO 140089343383360] Available memory in bytes: 15344865280\u001b[0m\n",
      "\u001b[31m[09/23/2018 01:07:41 INFO 140089343383360] Estimated sample size in bytes: 19660800\u001b[0m\n",
      "\u001b[31m[09/23/2018 01:07:41 INFO 140089343383360] Estimated memory needed to build the forest in bytes: 49152000\u001b[0m\n",
      "\u001b[31m[09/23/2018 01:07:41 INFO 140089343383360] Memory limits validated.\u001b[0m\n",
      "\u001b[31m[09/23/2018 01:07:41 INFO 140089343383360] Starting cluster sharing facilities...\u001b[0m\n",
      "\u001b[31m[I 18-09-23 01:07:41] >>> starting FTP server on 0.0.0.0:8999, pid=1 <<<\u001b[0m\n",
      "\u001b[31m[09/23/2018 01:07:41 INFO 140089343383360] Create Store: dist_async\u001b[0m\n",
      "\u001b[31m[09/23/2018 01:07:41 INFO 140087840978688] >>> starting FTP server on 0.0.0.0:8999, pid=1 <<<\u001b[0m\n",
      "\u001b[31m[09/23/2018 01:07:41 INFO 140087840978688] poller: <class 'pyftpdlib.ioloop.Epoll'>\u001b[0m\n",
      "\u001b[31m[I 18-09-23 01:07:41] poller: <class 'pyftpdlib.ioloop.Epoll'>\u001b[0m\n",
      "\u001b[31m[I 18-09-23 01:07:41] masquerade (NAT) address: None\u001b[0m\n",
      "\u001b[31m[09/23/2018 01:07:41 INFO 140087840978688] masquerade (NAT) address: None\u001b[0m\n",
      "\u001b[31m[09/23/2018 01:07:41 INFO 140087840978688] passive ports: None\u001b[0m\n",
      "\u001b[31m[I 18-09-23 01:07:41] passive ports: None\u001b[0m\n",
      "\u001b[31m[09/23/2018 01:07:41 INFO 140087840978688] use sendfile(2): False\u001b[0m\n",
      "\u001b[31m[I 18-09-23 01:07:41] use sendfile(2): False\u001b[0m\n",
      "\u001b[31m[09/23/2018 01:07:42 INFO 140089343383360] Cluster sharing facilities started.\u001b[0m\n",
      "\u001b[31m[09/23/2018 01:07:42 INFO 140089343383360] Verifying all workers are accessible...\u001b[0m\n",
      "\u001b[31m[09/23/2018 01:07:42 INFO 140089343383360] All workers accessible.\u001b[0m\n",
      "\u001b[31m[09/23/2018 01:07:42 INFO 140089343383360] Initializing Sampler...\u001b[0m\n",
      "\u001b[31m[09/23/2018 01:07:42 INFO 140089343383360] Sampler correctly initialized.\u001b[0m\n",
      "\u001b[31m#metrics {\"Metrics\": {\"initialize.time\": {\"count\": 1, \"max\": 698.7659931182861, \"sum\": 698.7659931182861, \"min\": 698.7659931182861}}, \"EndTime\": 1537664862.554821, \"Dimensions\": {\"Host\": \"algo-1\", \"Operation\": \"training\", \"Algorithm\": \"RandomCutForest\"}, \"StartTime\": 1537664861.831207}\n",
      "\u001b[0m\n",
      "\u001b[31m#metrics {\"Metrics\": {\"Max Batches Seen Between Resets\": {\"count\": 1, \"max\": 0, \"sum\": 0.0, \"min\": 0}, \"Number of Batches Since Last Reset\": {\"count\": 1, \"max\": 0, \"sum\": 0.0, \"min\": 0}, \"Number of Records Since Last Reset\": {\"count\": 1, \"max\": 0, \"sum\": 0.0, \"min\": 0}, \"Total Batches Seen\": {\"count\": 1, \"max\": 0, \"sum\": 0.0, \"min\": 0}, \"Total Records Seen\": {\"count\": 1, \"max\": 0, \"sum\": 0.0, \"min\": 0}, \"Max Records Seen Between Resets\": {\"count\": 1, \"max\": 0, \"sum\": 0.0, \"min\": 0}, \"Reset Count\": {\"count\": 1, \"max\": 0, \"sum\": 0.0, \"min\": 0}}, \"EndTime\": 1537664862.555079, \"Dimensions\": {\"Host\": \"algo-1\", \"Meta\": \"init_train_data_iter\", \"Operation\": \"training\", \"Algorithm\": \"RandomCutForest\"}, \"StartTime\": 1537664862.555037}\n",
      "\u001b[0m\n",
      "\u001b[31m[09/23/2018 01:07:42 INFO 140089343383360] Sampling training data...\u001b[0m\n",
      "\u001b[31m[09/23/2018 01:07:42 INFO 140089343383360] Sampling training data completed.\u001b[0m\n",
      "\u001b[31m#metrics {\"Metrics\": {\"epochs\": {\"count\": 1, \"max\": 1, \"sum\": 1.0, \"min\": 1}, \"update.time\": {\"count\": 1, \"max\": 53.59506607055664, \"sum\": 53.59506607055664, \"min\": 53.59506607055664}}, \"EndTime\": 1537664862.608991, \"Dimensions\": {\"Host\": \"algo-1\", \"Operation\": \"training\", \"Algorithm\": \"RandomCutForest\"}, \"StartTime\": 1537664862.554961}\n",
      "\u001b[0m\n",
      "\u001b[31m[09/23/2018 01:07:42 INFO 140089343383360] Early stop condition met. Stopping training.\u001b[0m\n",
      "\u001b[31m[09/23/2018 01:07:42 INFO 140089343383360] #progress_metric: host=algo-1, completed 100 % epochs\u001b[0m\n",
      "\u001b[31m#metrics {\"Metrics\": {\"Max Batches Seen Between Resets\": {\"count\": 1, \"max\": 11, \"sum\": 11.0, \"min\": 11}, \"Number of Batches Since Last Reset\": {\"count\": 1, \"max\": 11, \"sum\": 11.0, \"min\": 11}, \"Number of Records Since Last Reset\": {\"count\": 1, \"max\": 10272, \"sum\": 10272.0, \"min\": 10272}, \"Total Batches Seen\": {\"count\": 1, \"max\": 11, \"sum\": 11.0, \"min\": 11}, \"Total Records Seen\": {\"count\": 1, \"max\": 10272, \"sum\": 10272.0, \"min\": 10272}, \"Max Records Seen Between Resets\": {\"count\": 1, \"max\": 10272, \"sum\": 10272.0, \"min\": 10272}, \"Reset Count\": {\"count\": 1, \"max\": 1, \"sum\": 1.0, \"min\": 1}}, \"EndTime\": 1537664862.609368, \"Dimensions\": {\"Host\": \"algo-1\", \"Meta\": \"training_data_iter\", \"Operation\": \"training\", \"Algorithm\": \"RandomCutForest\", \"epoch\": 0}, \"StartTime\": 1537664862.555358}\n",
      "\u001b[0m\n",
      "\u001b[31m[09/23/2018 01:07:42 INFO 140089343383360] #throughput_metric: host=algo-1, train throughput=189667.366723 records/second\u001b[0m\n",
      "\u001b[31m[09/23/2018 01:07:42 INFO 140089343383360] Master node: building Random Cut Forest...\u001b[0m\n",
      "\u001b[31m[09/23/2018 01:07:42 INFO 140089343383360] Gathering samples...\u001b[0m\n",
      "\u001b[31m[09/23/2018 01:07:42 INFO 140089343383360] Samples gathered\u001b[0m\n",
      "\u001b[31m[09/23/2018 01:07:42 INFO 140089343383360] Building Random Cut Forest...\u001b[0m\n",
      "\u001b[31m[09/23/2018 01:07:42 INFO 140089343383360] Random Cut Forest built.\u001b[0m\n",
      "\u001b[31m#metrics {\"Metrics\": {\"finalize.time\": {\"count\": 1, \"max\": 45.0749397277832, \"sum\": 45.0749397277832, \"min\": 45.0749397277832}, \"fit_model.time\": {\"count\": 1, \"max\": 44.10505294799805, \"sum\": 44.10505294799805, \"min\": 44.10505294799805}}, \"EndTime\": 1537664862.65474, \"Dimensions\": {\"Host\": \"algo-1\", \"Operation\": \"training\", \"Algorithm\": \"RandomCutForest\"}, \"StartTime\": 1537664862.609073}\n",
      "\u001b[0m\n"
     ]
    },
    {
     "name": "stdout",
     "output_type": "stream",
     "text": [
      "\u001b[31m[09/23/2018 01:07:42 INFO 140089343383360] Master node: Serializing the RandomCutForest model\u001b[0m\n",
      "\u001b[31m#metrics {\"Metrics\": {\"serialize_model.time\": {\"count\": 1, \"max\": 224.4410514831543, \"sum\": 224.4410514831543, \"min\": 224.4410514831543}}, \"EndTime\": 1537664862.879302, \"Dimensions\": {\"Host\": \"algo-1\", \"Operation\": \"training\", \"Algorithm\": \"RandomCutForest\"}, \"StartTime\": 1537664862.654815}\n",
      "\u001b[0m\n",
      "\u001b[31m[09/23/2018 01:07:42 INFO 140089343383360] Test data is not provided.\u001b[0m\n",
      "\u001b[31m[I 18-09-23 01:07:42] >>> shutting down FTP server (0 active fds) <<<\u001b[0m\n",
      "\u001b[31m[09/23/2018 01:07:42 INFO 140087840978688] >>> shutting down FTP server (0 active fds) <<<\u001b[0m\n",
      "\u001b[31m#metrics {\"Metrics\": {\"totaltime\": {\"count\": 1, \"max\": 1382.9710483551025, \"sum\": 1382.9710483551025, \"min\": 1382.9710483551025}, \"setuptime\": {\"count\": 1, \"max\": 186.2039566040039, \"sum\": 186.2039566040039, \"min\": 186.2039566040039}}, \"EndTime\": 1537664862.986989, \"Dimensions\": {\"Host\": \"algo-1\", \"Operation\": \"training\", \"Algorithm\": \"RandomCutForest\"}, \"StartTime\": 1537664862.87939}\n",
      "\u001b[0m\n",
      "\n",
      "Billable seconds: 62\n"
     ]
    }
   ],
   "source": [
    "session = sagemaker.Session()\n",
    "\n",
    "# specify general training job information\n",
    "rcf = RandomCutForest(role=execution_role,\n",
    "                      train_instance_count=1,\n",
    "                      train_instance_type='ml.m4.xlarge',\n",
    "                      data_location='s3://{}/{}/'.format(bucket, prefix_shingled),\n",
    "                      output_path='s3://{}/{}/output'.format(bucket, prefix_shingled),\n",
    "                      num_samples_per_tree=512,\n",
    "                      num_trees=50)\n",
    "\n",
    "# automatically upload the training data to S3 and run the training job\n",
    "rcf.fit(rcf.record_set(df1_shingled))"
   ]
  },
  {
   "cell_type": "code",
   "execution_count": 20,
   "metadata": {},
   "outputs": [
    {
     "name": "stderr",
     "output_type": "stream",
     "text": [
      "INFO:sagemaker:Creating model with name: randomcutforest-2018-09-23-01-16-26-722\n",
      "INFO:sagemaker:Creating endpoint with name randomcutforest-2018-09-23-01-04-36-549\n"
     ]
    },
    {
     "name": "stdout",
     "output_type": "stream",
     "text": [
      "----------------------------------------------------------------!"
     ]
    }
   ],
   "source": [
    "from sagemaker.predictor import csv_serializer, json_deserializer\n",
    "\n",
    "rcf_inference = rcf.deploy(\n",
    "    initial_instance_count=1,\n",
    "    instance_type='ml.m4.xlarge',\n",
    ")\n",
    "\n",
    "rcf_inference.content_type = 'text/csv'\n",
    "rcf_inference.serializer = csv_serializer\n",
    "rcf_inference.accept = 'appliation/json'\n",
    "rcf_inference.deserializer = json_deserializer"
   ]
  },
  {
   "cell_type": "markdown",
   "metadata": {},
   "source": [
    "Using the above inference endpoint we compute the anomaly scores associated with the shingled data."
   ]
  },
  {
   "cell_type": "code",
   "execution_count": 22,
   "metadata": {},
   "outputs": [
    {
     "name": "stdout",
     "output_type": "stream",
     "text": [
      "[1.45418524 1.46656971 1.46899792 1.47430758 1.49141953 1.49039036\n",
      " 1.59260343 1.6962499  1.6718469  1.68406121 1.72868716 1.68030417\n",
      " 1.63082737 1.64759024 1.66083292 1.65276261 1.71480767 1.71150822\n",
      " 1.68430569 1.69679236 1.68878569 1.6255177  1.64611194 1.64336807\n",
      " 1.61967915 1.58701812 1.57165953 1.62273285 1.56982387 1.58756687\n",
      " 1.53624298 1.57770804 1.55094959 1.50758966 1.45760735 1.49787998\n",
      " 1.47980195 1.46297147 1.48918049 1.48276982 1.45773467 1.49672629\n",
      " 1.49484237 1.53084312 1.48827433 1.54543026 1.58353939 1.61961103\n",
      " 1.60656566 1.60985029 1.60986329 1.59276841 1.64837936 1.6723408\n",
      " 1.66814925 1.62214987 1.59216596 1.60750558 1.52170457 1.48919518\n",
      " 1.47153961 1.49143836 1.49477577 1.54968782 1.53979592 1.51396926\n",
      " 1.51645966 1.51176101 1.47594658 1.45929922 1.50540223 1.51667795\n",
      " 1.51218639 1.57025847 1.56525761 1.57282579 1.57647523 1.6301422\n",
      " 1.69663275 1.59348436 1.59695522 1.61422685 1.68647197 1.66394419\n",
      " 1.68627142 1.76310116 1.79378283 1.74802567 1.75442458 1.79171492\n",
      " 1.83256363 1.87915589 1.92449863 1.96724338 2.00232895 2.03148526\n",
      " 2.08491988 2.10304745 2.1118662  2.1184669  2.15762346 2.19620952\n",
      " 2.21165781 2.22951396 2.25072352 2.2620686  2.27742293 2.27145709\n",
      " 2.22439075 2.25382199 2.26344338 2.28985903 2.29558603 2.25700331\n",
      " 2.26497542 2.25880734 2.24456522 2.2541151  2.21565496 2.1687449\n",
      " 2.15258569 2.1571628  2.15246228 2.14460453 2.13654662 2.11731342\n",
      " 2.09000488 2.09164857 2.07204127 2.0493577  2.05525624 2.04615161\n",
      " 1.9809339  1.99176805 1.9541491  1.9395103  1.93453565 1.92575995\n",
      " 1.85317898 1.80172133 1.80510179 1.8191986  1.78607203 1.73267528\n",
      " 1.63080299 1.6058253  1.57369018 1.51970028 1.46371074 1.46628199\n",
      " 1.47512071]\n"
     ]
    }
   ],
   "source": [
    "# Score the shingled datapoints\n",
    "results = rcf_inference.predict(df1_shingled)\n",
    "scores = np.array([datum['score'] for datum in results['scores']])\n",
    "\n",
    "# compute the shingled score distribution and cutoff and determine anomalous scores\n",
    "score_mean = scores.mean()\n",
    "score_std = scores.std()\n",
    "score_cutoff = score_mean + 3*score_std\n",
    "\n",
    "anomalies = scores[scores > score_cutoff]\n",
    "anomaly_indices = np.arange(len(scores))[scores > score_cutoff]\n",
    "\n",
    "print(anomalies)"
   ]
  },
  {
   "cell_type": "markdown",
   "metadata": {},
   "source": [
    "Finally, we plot the scores from the shingled data on top of the original dataset and mark the score lying above the anomaly score threshold."
   ]
  },
  {
   "cell_type": "code",
   "execution_count": 23,
   "metadata": {},
   "outputs": [
    {
     "data": {
      "image/png": "[encoded data removed]",
      "text/plain": [
       "<Figure size 720x288 with 2 Axes>"
      ]
     },
     "metadata": {},
     "output_type": "display_data"
    }
   ],
   "source": [
    "fig, ax1 = plt.subplots()\n",
    "ax2 = ax1.twinx()\n",
    "\n",
    "#\n",
    "# *Try this out* - change `start` and `end` to zoom in on the \n",
    "# anomaly found earlier in this notebook\n",
    "#\n",
    "start, end = 0, len(df1)\n",
    "df1_subset = df1[start:end]\n",
    "\n",
    "ax1.plot(df1['value'], color='C0', alpha=0.8)\n",
    "ax2.plot(scores, color='C1')\n",
    "ax2.scatter(anomaly_indices, anomalies, color='k')\n",
    "\n",
    "ax1.grid(which='major', axis='both')\n",
    "ax1.set_ylabel('Taxi Ridership', color='C0')\n",
    "ax2.set_ylabel('Anomaly Score', color='C1')\n",
    "ax1.tick_params('y', colors='C0')\n",
    "ax2.tick_params('y', colors='C1')\n",
    "ax1.set_ylim(0, 40000)\n",
    "ax2.set_ylim(min(scores), 1.4*max(scores))\n",
    "fig.set_figwidth(10)"
   ]
  },
  {
   "cell_type": "markdown",
   "metadata": {},
   "source": [
    "We see that with this particular shingle size, hyperparameter selection, and anomaly cutoff threshold that the shingled approach more clearly captures the major anomalous events: the spike at around t=6000 and the dips at around t=9000 and t=10000. In general, the number of trees, sample size, and anomaly score cutoff are all parameters that a data scientist may need experiment with in order to achieve desired results. The use of a labeled test dataset allows the used to obtain common accuracy metrics for anomaly detection algorithms. For more information about Amazon SageMaker Random Cut Forest see the [AWS Documentation](https://docs.aws.amazon.com/sagemaker/latest/dg/randomcutforest.html)."
   ]
  },
  {
   "cell_type": "code",
   "execution_count": 24,
   "metadata": {},
   "outputs": [
    {
     "name": "stderr",
     "output_type": "stream",
     "text": [
      "INFO:sagemaker:Deleting endpoint with name: randomcutforest-2018-09-23-01-04-36-549\n"
     ]
    }
   ],
   "source": [
    "sagemaker.Session().delete_endpoint(rcf_inference.endpoint)"
   ]
  },
  {
   "cell_type": "code",
   "execution_count": null,
   "metadata": {},
   "outputs": [],
   "source": []
  },
  {
   "cell_type": "code",
   "execution_count": null,
   "metadata": {},
   "outputs": [],
   "source": []
  }
 ],
 "metadata": {
  "kernelspec": {
   "display_name": "conda_python3",
   "language": "python",
   "name": "conda_python3"
  },
  "language_info": {
   "codemirror_mode": {
    "name": "ipython",
    "version": 3
   },
   "file_extension": ".py",
   "mimetype": "text/x-python",
   "name": "python",
   "nbconvert_exporter": "python",
   "pygments_lexer": "ipython3",
   "version": "3.6.5"
  },
  "notice": "Copyright 2018 Amazon.com, Inc. or its affiliates. All Rights Reserved.  Licensed under the Apache License, Version 2.0 (the \"License\"). You may not use this file except in compliance with the License. A copy of the License is located at http://aws.amazon.com/apache2.0/ or in the \"license\" file accompanying this file. This file is distributed on an \"AS IS\" BASIS, WITHOUT WARRANTIES OR CONDITIONS OF ANY KIND, either express or implied. See the License for the specific language governing permissions and limitations under the License."
 },
 "nbformat": 4,
 "nbformat_minor": 2
}
